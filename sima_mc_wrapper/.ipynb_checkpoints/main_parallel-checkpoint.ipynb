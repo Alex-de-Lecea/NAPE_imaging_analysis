{
 "cells": [
  {
   "cell_type": "code",
   "execution_count": null,
   "metadata": {},
   "outputs": [],
   "source": [
    "\"\"\"\n",
    "\n",
    "Finds any .tif, .tiff, .h5 files in the requested directory and performs SIMA-based motion correction and fft-based bidirection \n",
    "offset correction. This code parallelizes the computation at the session level by passing the multiple file paths (if there are \n",
    "more than one recordings) to the multiprocessing map function. The script sima_motion_correction contains the wrapping\n",
    "code for SIMA and the custom-created class for bidirection offset correction.\n",
    "\n",
    "Two simple ways to execute this in command line:  \n",
    "A) sima_motion_correct_batch; then input the path_to_directory\n",
    "\n",
    "B) sima_motion_correct_batch.batch_process(path_to_directory)\n",
    "\n",
    "See these documentations for details\n",
    "------------------------------------\n",
    "\n",
    "https://github.com/losonczylab/sima\n",
    "http://www.losonczylab.org/sima/1.3.2/\n",
    "https://www.frontiersin.org/articles/10.3389/fninf.2014.00080/full\n",
    "\n",
    "Required Packages\n",
    "-----------------\n",
    "sima, glob, multiprocessing, numpy, h5py, pickle (optional if want to save displacement file) \n",
    "\n",
    "Custom code requirements: sima_motion_correction, bidi_offset_correction\n",
    "\n",
    "Parameters\n",
    "----------\n",
    "\n",
    "fdir : string\n",
    "    root file directory containing the raw tif, tiff, h5 files \n",
    "\n",
    "Optional Parameters\n",
    "-------------------\n",
    "\n",
    "max_disp : list of two entries\n",
    "    Each entry is an int. First entry is the y-axis maximum allowed displacement, second is the x-axis max allowed displacement.\n",
    "    The number of pixel shift for each line cannot go above these values.\n",
    "    Note: 50 pixels is approximately 10% of the FOV (512x512 pixels)\n",
    "    \n",
    "    Defaults to [30, 50]\n",
    "    \n",
    "save_displacement : bool \n",
    "    Whether or not to have SIMA save the calculated displacements over time. def: False; NOTE: if this is switched to True,\n",
    "    it can double the time to perform motion correction.\n",
    "    \n",
    "    Defaults to False\n",
    "    \n",
    "Output\n",
    "-------\n",
    "motion corrected file (in the format of h5) with \"_sima_mc\" appended to the end of the file name\n",
    "    \n",
    "\n",
    "\"\"\";"
   ]
  },
  {
   "cell_type": "code",
   "execution_count": null,
   "metadata": {},
   "outputs": [],
   "source": [
    "import sima_motion_bidi_correction # reload(sima_motion_bidi_correction)\n",
    "import glob\n",
    "import multiprocessing as mp\n",
    "import os"
   ]
  },
  {
   "cell_type": "code",
   "execution_count": null,
   "metadata": {},
   "outputs": [],
   "source": [
    "def batch_process(fdir, max_disp = [30, 100], save_displacement = False):\n",
    "\n",
    "    # gather all tif or h5 files in root directory\n",
    "    fpaths = []\n",
    "    types = ['*.tif', '*.tiff', '*.h5']\n",
    "    for type in types:\n",
    "        fpaths.extend(glob.glob(fdir + type))\n",
    "    print(str(len(fpaths)) + ' files to analyze')\n",
    "\n",
    "    if len(fpaths) == 0:\n",
    "        print(\"No files to analyze!\")\n",
    "    \n",
    "    # determine number of cores to use and initialize parallel pool\n",
    "    num_processes = min(mp.cpu_count(), len(fpaths))\n",
    "    print( 'Total CPU cores for parallel processing: ' + str(num_processes) )\n",
    "    pool = mp.Pool(processes = num_processes)\n",
    "    \n",
    "    # perform parallel processing; pass iterable list of file paths to the motion correction script\n",
    "    pool.map(sima_motion_bidi_correction.unpack, [(file, max_disp) for file in fpaths])\n",
    "    pool.close()\n",
    "    pool.join()"
   ]
  },
  {
   "cell_type": "code",
   "execution_count": null,
   "metadata": {
    "scrolled": true
   },
   "outputs": [],
   "source": [
    "%%time\n",
    "if __name__ == \"__main__\":\n",
    "    fdir = raw_input(\"Input root directory of tif, tiff, h5 files to analyze; note: leave the last backlash off\")\n",
    "    batch_process(fdir + '\\\\')"
   ]
  },
  {
   "cell_type": "code",
   "execution_count": null,
   "metadata": {},
   "outputs": [],
   "source": []
  }
 ],
 "metadata": {
  "kernelspec": {
   "display_name": "Python 2",
   "language": "python",
   "name": "python2"
  },
  "language_info": {
   "codemirror_mode": {
    "name": "ipython",
    "version": 2
   },
   "file_extension": ".py",
   "mimetype": "text/x-python",
   "name": "python",
   "nbconvert_exporter": "python",
   "pygments_lexer": "ipython2",
   "version": "2.7.16"
  }
 },
 "nbformat": 4,
 "nbformat_minor": 2
}
