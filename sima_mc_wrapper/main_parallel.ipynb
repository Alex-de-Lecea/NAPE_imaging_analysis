{
 "cells": [
  {
   "cell_type": "markdown",
   "metadata": {},
   "source": [
    "# NAPE Calcium Imaging Preprocessing Pipeline\n",
    "\n",
    "Finds any .tif, .tiff, .h5 files in the requested directory and performs SIMA-based motion correction and fft-based bidirection \n",
    "offset correction. This code parallelizes the computation at the session level by passing the multiple file paths (if there are \n",
    "more than one recordings) to the multiprocessing map function. The script sima_motion_correction contains the wrapping\n",
    "code for SIMA and the custom-created class for bidirection offset correction.\n",
    "\n",
    "Two simple ways to execute this in command line:  \n",
    "A) sima_motion_correct_batch; then input the path to the directory containing your raw files\n",
    "\n",
    "B) sima_motion_correct_batch.batch_process(path_to_directory)\n",
    "\n",
    "__Otherwise, in this jupyter notebook, just run all cells in order (shift + enter)__\n",
    "\n",
    "See these documentations for details\n",
    "------------------------------------\n",
    "\n",
    "https://github.com/losonczylab/sima\n",
    "http://www.losonczylab.org/sima/1.3.2/\n",
    "https://www.frontiersin.org/articles/10.3389/fninf.2014.00080/full\n",
    "\n",
    "Required Packages\n",
    "-----------------\n",
    "sima, glob, multiprocessing, numpy, h5py, pickle (optional if want to save displacement file) \n",
    "\n",
    "Custom code requirements: sima_motion_correction, bidi_offset_correction\n",
    "\n",
    "Parameters\n",
    "----------\n",
    "\n",
    "fdir : string\n",
    "    root file directory containing the raw tif, tiff, h5 files. Note: leave off the last backslash.\n",
    "\n",
    "Optional Parameters\n",
    "-------------------\n",
    "\n",
    "max_disp : list of two entries\n",
    "    Each entry is an int. First entry is the y-axis maximum allowed displacement, second is the x-axis max allowed displacement.\n",
    "    The number of pixel shift for each line cannot go above these values.\n",
    "    Note: 50 pixels is approximately 10% of the FOV (512x512 pixels)\n",
    "    \n",
    "    Defaults to [30, 50]\n",
    "    \n",
    "save_displacement : bool \n",
    "    Whether or not to have SIMA save the calculated displacements over time. def: False; NOTE: if this is switched to True,\n",
    "    it can double the time to perform motion correction.\n",
    "    \n",
    "    Defaults to False\n",
    "    \n",
    "Output\n",
    "-------\n",
    "motion corrected file (in the format of h5) with \"\\_sima_mc\" appended to the end of the file name\n"
   ]
  },
  {
   "cell_type": "code",
   "execution_count": null,
   "metadata": {},
   "outputs": [],
   "source": [
    "import sima_motion_bidi_correction # reload(sima_motion_bidi_correction)\n",
    "import calculate_neuropil\n",
    "import glob\n",
    "import multiprocessing as mp\n",
    "import os\n"
   ]
  },
  {
   "cell_type": "code",
   "execution_count": 99,
   "metadata": {},
   "outputs": [],
   "source": [
    "def processes_single_file_unpack(args):\n",
    "    return processes_single_file(*args)\n",
    "\n",
    "def processes_single_file(fpath, max_disp, save_displacement):\n",
    "    \n",
    "    fdir  = os.path.split(fpath)[0]\n",
    "    fname = os.path.splitext(os.path.split(fpath)[1])[0]\n",
    "\n",
    "    sima_motion_bidi_correction.full_process(fpath, max_disp, save_displacement)\n",
    "\n",
    "    sima_extract_roi_sig.extract(fpath)\n",
    "\n",
    "    calculate_neuropil.calculate_neuropil_signals_for_session(fdir)"
   ]
  },
  {
   "cell_type": "code",
   "execution_count": 101,
   "metadata": {},
   "outputs": [],
   "source": [
    "def batch_process(root_dir, max_disp = [30, 50], save_displacement = False):\n",
    "\n",
    "    # declare initialize variables to do with finding files to analyze\n",
    "    fpaths = []\n",
    "    types = ['*.tif', '*.tiff', '*.h5']\n",
    "    exclude_strs = ['spatialweights', '_sima_mc', '_trim_dims']\n",
    "    \n",
    "    # find files to analyze\n",
    "    subdir = os.walk(root_dir).next()[1] # grabs subdirectories in specified folder\n",
    "    for fdir in subdir:\n",
    "        \n",
    "        fdir_path = os.path.join(root_dir, fdir)\n",
    "        \n",
    "        for type in types:\n",
    "            if not any(exclude_str in fdir_path for exclude_str in exclude_strs): # make sure to exclude non-raw files\n",
    "            fpaths.extend(glob.glob(os.path.join(fdir_path, type)))\n",
    "    \n",
    "    # print info to console\n",
    "    if len(fpaths) == 0:\n",
    "        raise Exception(\"No files to analyze!\")\n",
    "    print(str(len(fpaths)) + ' files to analyze')\n",
    "    \n",
    "    # determine number of cores to use and initialize parallel pool\n",
    "    num_processes = min(mp.cpu_count(), len(fpaths))\n",
    "    print('Total CPU cores for parallel processing: ' + str(num_processes))\n",
    "    pool = mp.Pool(processes=num_processes)\n",
    "    \n",
    "    # perform parallel processing; pass iterable list of file paths to the motion correction script\n",
    "    pool.map(processes_single_file_unpack, [(file, max_disp, save_displacement) for file in fpaths])\n",
    "\n",
    "    pool.close()\n",
    "    pool.join()"
   ]
  },
  {
   "cell_type": "code",
   "execution_count": null,
   "metadata": {
    "scrolled": true
   },
   "outputs": [
    {
     "name": "stdout",
     "output_type": "stream",
     "text": [
      "Input root directory of tif, tiff, h5 files to analyze; note: Use FORWARD SLASHES to separate folder and leave the last backlash off!!C:\\2pData\\Ivan\\test\n",
      "2 files to analyze\n",
      "Total CPU cores for parallel processing: 2\n"
     ]
    }
   ],
   "source": [
    "%%time\n",
    "if __name__ == \"__main__\":\n",
    "    fdir = raw_input(r\"Input root directory of tif, tiff, h5 files to analyze; note: Use FORWARD SLASHES to separate folder and leave the last backlash off!!  \")\n",
    "    batch_process(fdir + '\\\\')"
   ]
  },
  {
   "cell_type": "code",
   "execution_count": 37,
   "metadata": {},
   "outputs": [],
   "source": [
    "import sima\n",
    "from sima.ROI import ROIList\n",
    "import numpy as np\n",
    "\n",
    "fpath = r'C:\\2pData\\Ivan\\itp_lhganiii_p7ml_920_0001\\itp_lhganiii_p7ml_920_0001_tiff.h5'\n",
    "\n",
    "fdir  = os.path.split(fpath)[0]\n",
    "fname = os.path.splitext(os.path.split(fpath)[1])[0]\n",
    "fext  = os.path.splitext(os.path.split(fpath)[1])[1]\n",
    "\n",
    "sima_mc_path = os.path.join(fdir, fname + '_sima_mc.h5')\n",
    "\n",
    "if not os.path.exists(sima_mc_path):\n",
    "    raise Exception('Data not motion corrected yet; can\\'t extract ROI data')\n",
    "\n",
    "rois = ROIList.load(os.path.join(indir, fname + '_mc_RoiSet.zip'), fmt='ImageJ') # load ROIs as sima polygon objects (list)\n",
    "dataset = sima.ImagingDataset.load(os.path.join(indir, fname+'_mc.sima')) # reload motion-corrected dataset\n",
    "dataset.add_ROIs(rois, 'from_ImageJ')\n",
    "signals = dataset.extract(rois)\n",
    "extracted_signals = np.asarray(signals['raw']) # turn signals list into an np array\n",
    "np.save(os.path.join(fdir, fname + '_extractedsignals.npy'), extracted_signals)\n",
    "print('Done with %s'%fdir)"
   ]
  }
 ],
 "metadata": {
  "kernelspec": {
   "display_name": "Python 2",
   "language": "python",
   "name": "python2"
  },
  "language_info": {
   "codemirror_mode": {
    "name": "ipython",
    "version": 2
   },
   "file_extension": ".py",
   "mimetype": "text/x-python",
   "name": "python",
   "nbconvert_exporter": "python",
   "pygments_lexer": "ipython2",
   "version": "2.7.16"
  }
 },
 "nbformat": 4,
 "nbformat_minor": 2
}
