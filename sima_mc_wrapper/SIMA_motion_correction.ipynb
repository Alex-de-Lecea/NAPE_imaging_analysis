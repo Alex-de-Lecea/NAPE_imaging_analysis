{
 "cells": [
  {
   "cell_type": "markdown",
   "metadata": {},
   "source": [
    "# Calcium Imaging Motion Correction Using SIMA\n",
    "\n",
    "author: Zhe Charles Zhou (UW NAPE Center)\n",
    "\n",
    "Loads in raw calcium imaging movies and performs motion correction using the SIMA package. The algorithm used by SIMA is based on a Hidden Markov Model to estimate x-y shifts of each frame's lines.\n",
    "\n",
    "Specific SIMA code and detailed methods can be found in: \n",
    "\n",
    "https://github.com/losonczylab/sima\n",
    "\n",
    "https://www.frontiersin.org/articles/10.3389/fninf.2014.00080/full\n",
    "\n",
    "pre-req input data:\n",
    "\n",
    "- raw calcium imaging videos in tif or h5 format"
   ]
  },
  {
   "cell_type": "code",
   "execution_count": 1,
   "metadata": {},
   "outputs": [],
   "source": [
    "#import sima and other dependents\n",
    "import sima\n",
    "import sima.motion\n",
    "from sima.motion import HiddenMarkov2D\n",
    "import numpy as np\n",
    "import os\n",
    "import pickle\n",
    "import h5py"
   ]
  },
  {
   "cell_type": "code",
   "execution_count": 2,
   "metadata": {},
   "outputs": [],
   "source": [
    "\"\"\"\n",
    "\n",
    "    Input arguments:\n",
    "    \n",
    "        fname    : string\n",
    "            Raw video file name\n",
    "            \n",
    "        dir      : string\n",
    "            Path of the root directory where the raw data resides\n",
    "        \n",
    "        max_disp : list of two elements\n",
    "            The maximum allowed displacement magnitudes in pixels in [y,x]. \n",
    "            Both values must be ints (integers).\n",
    "    \n",
    "        tif_h5   : int\n",
    "            set as 0 if the raw input data is a tiff, 1 for h5\n",
    "            \n",
    "    Output:\n",
    "    \n",
    "        _sima_mc.h5 file\n",
    "            Motion corrected raw data in h5 format. \n",
    "            Dimensions of data are (frame, plane, row-y, column-x, channel). \n",
    "        \n",
    "        sima_mc_std.tif file\n",
    "            This code will output several projections (images collapsed across the frame/time dimension).\n",
    "            By default, this will save standard dev, mean, and kurtosis projection images.\n",
    "\n",
    "        displacement.pkl file\n",
    "            SIMA provides the calculated x and y shifts for each frame's lines made during the motion correction.\n",
    "\"\"\"\n",
    "\n",
    "# USER DEFINE the following four variables; see comments above for details:\n",
    "fname = 'Calca-hm3-mc_0002' \n",
    "fdir = 'C:\\\\2pData\\\\Jane\\\\' \n",
    "max_disp = [10, 10] \n",
    "tif_h5 = 0 "
   ]
  },
  {
   "cell_type": "code",
   "execution_count": 3,
   "metadata": {
    "scrolled": true
   },
   "outputs": [
    {
     "data": {
      "text/plain": [
       "'C:\\\\2pData\\\\Jane\\\\Calca-hm3-mc_0002.tif'"
      ]
     },
     "metadata": {},
     "output_type": "display_data"
    },
    {
     "data": {
      "text/plain": [
       "(1000, 1L, 512L, 512L, 1L)"
      ]
     },
     "execution_count": 3,
     "metadata": {},
     "output_type": "execute_result"
    }
   ],
   "source": [
    "# get full path of file and load via sima\n",
    "\n",
    "if tif_h5 == 0:\n",
    "    \n",
    "    # splices file and file directory into a single path for loading\n",
    "    datafile = os.path.join(fdir, '%s.tif'%fname)\n",
    "    # sequence: object that contains record of whole dataset; data not stored into memory all at once\n",
    "    sequences = [sima.Sequence.create('TIFF', datafile)] \n",
    "    \n",
    "elif tif_h5 == 1:\n",
    "    \n",
    "    datafile = os.path.join(fdir, '%s.h5'%fname)\n",
    "    sequences = [sima.Sequence.create('HDF5', datafile, 'tyx')]\n",
    "    \n",
    "display(datafile)"
   ]
  },
  {
   "cell_type": "code",
   "execution_count": 5,
   "metadata": {},
   "outputs": [],
   "source": [
    "# define motion correction method\n",
    "# n_processes can only handle =1! Bug in their code where >1 runs into an error\n",
    "# max_displacement: The maximum allowed displacement magnitudes in pixels in [y,x]\n",
    "mc_approach = sima.motion.HiddenMarkov2D(granularity='row', max_displacement=max_disp, n_processes = 1, verbose=True)"
   ]
  },
  {
   "cell_type": "markdown",
   "metadata": {},
   "source": [
    "## Apply motion correction"
   ]
  },
  {
   "cell_type": "code",
   "execution_count": 10,
   "metadata": {
    "scrolled": true
   },
   "outputs": [
    {
     "name": "stdout",
     "output_type": "stream",
     "text": [
      "Estimating model parameters.\n",
      "Estimating displacements for cycle  0\n",
      "Wall time: 3min 35s\n"
     ]
    }
   ],
   "source": [
    "%%time\n",
    "# apply motion correction to data\n",
    "dataset = mc_approach.correct(sequences, os.path.join(fdir, fname + '_mc.sima'), channel_names=['GCaMP'])\n",
    "# dataset dimensions are frame, plane, row(y), column (x), channel"
   ]
  },
  {
   "cell_type": "code",
   "execution_count": 11,
   "metadata": {},
   "outputs": [],
   "source": [
    "# Save motion corrected files : h5 as well as projections\n",
    "dataset.export_frames([os.path.join(fdir, fname + '_sima_mc.h5')], fmt='HDF5') # can change fmt to TIFF16 as well\n",
    "dataset.export_averages([os.path.join(fdir, fname + '_sima_mc_std.tif')], projection_type='std')\n",
    "dataset.export_averages([os.path.join(fdir, fname + '_sima_mc_mean.tif')], projection_type='average')\n",
    "dataset.export_averages([os.path.join(fdir, fname + '_sima_mc_kurt.tif')], projection_type='kurtosis')"
   ]
  },
  {
   "cell_type": "markdown",
   "metadata": {},
   "source": [
    "### Calculate motion displacement"
   ]
  },
  {
   "cell_type": "code",
   "execution_count": null,
   "metadata": {},
   "outputs": [],
   "source": [
    "%%time\n",
    "# show motion displacements after motion correction\n",
    "mcDisp_approach = sima.motion.HiddenMarkov2D(granularity='row', max_displacement=max_disp, n_processes = 1, verbose=True)\n",
    "displacements = mcDisp_approach.estimate(dataset)"
   ]
  },
  {
   "cell_type": "code",
   "execution_count": null,
   "metadata": {},
   "outputs": [],
   "source": [
    "# save the resulting displacement file\n",
    "# only useful if you want to see the values of displacement calculated by SIMA to perform the motion correction\n",
    "displacement_file = open( os.path.join(fdir, fname + '_mc.sima/displacement.pkl'), \"wb\" )\n",
    "pickle.dump( displacements, displacement_file )\n",
    "displacement_file.close()"
   ]
  },
  {
   "cell_type": "code",
   "execution_count": null,
   "metadata": {},
   "outputs": [],
   "source": [
    "# process and save np array of composite displacement\n",
    "data_dims = displacements[0].shape\n",
    "disp_np = np.squeeze( np.array(displacements[0]) )\n",
    "disp_meanpix = np.mean( disp_np, axis=1 ) # avg across lines (y axis)\n",
    "\n",
    "sima_disp = np.sqrt( np.square(disp_meanpix[:,0]) + np.square(disp_meanpix[:,1]) ) # calculate composite x + y offsets\n",
    "np.save( os.path.join(fdir, 'displacements\\\\displacements_sima.npy'), sima_disp)"
   ]
  }
 ],
 "metadata": {
  "kernelspec": {
   "display_name": "Python 2",
   "language": "python",
   "name": "python2"
  },
  "language_info": {
   "codemirror_mode": {
    "name": "ipython",
    "version": 2
   },
   "file_extension": ".py",
   "mimetype": "text/x-python",
   "name": "python",
   "nbconvert_exporter": "python",
   "pygments_lexer": "ipython2",
   "version": "2.7.16"
  }
 },
 "nbformat": 4,
 "nbformat_minor": 2
}
