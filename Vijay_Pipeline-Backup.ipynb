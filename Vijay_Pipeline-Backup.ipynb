{
 "cells": [
  {
   "cell_type": "code",
   "execution_count": null,
   "metadata": {},
   "outputs": [],
   "source": [
    "#import sima and other dependents\n",
    "\n",
    "import sima\n",
    "import sima.motion\n",
    "from sima.motion import HiddenMarkov2D\n",
    "import numpy as np\n",
    "import os\n",
    "filename = 'VJ_OFC_mThalaxons_06_310_Poisson12s'\n",
    "# filename = 'test file'\n",
    "folder = '/media/stuberlab/Vijay5/2p data/VJ_OFC_mThalaxons_06/D1'\n",
    "\n",
    "datafile = os.path.join(folder, '%s.h5'%filename)\n",
    "sequences = [sima.Sequence.create('HDF5', datafile, 'tyx')]\n",
    "# datafile = os.path.join(folder, '%s.tif'%filename)\n",
    "# sequences = [sima.Sequence.create('TIFF', datafile)]\n",
    "mc_approach = sima.motion.HiddenMarkov2D(granularity='row', max_displacement=[30, 50], verbose=True)\n",
    "dataset = mc_approach.correct(sequences, os.path.join(folder, filename + '_mc.sima'))\n",
    "# dataset.export_frames([[[os.path.join(folder, filename + '_mc.tif')]]], fmt='TIFF16')\n",
    "dataset.export_averages([os.path.join(folder, filename + '_mc_std.tif')], projection_type='std')"
   ]
  },
  {
   "cell_type": "code",
   "execution_count": null,
   "metadata": {},
   "outputs": [],
   "source": [
    "# \n",
    "\n",
    "import sima\n",
    "import numpy as np\n",
    "from sima.ROI import ROIList\n",
    "import os\n",
    "import pickle\n",
    "\n",
    "indir = '/media/stuberlab/Vijay5/2p data/VJ_OFC_mThalaxons_06/D1'\n",
    "tempfiles = os.walk(indir).next()[2]\n",
    "h5files = [f for f in tempfiles if os.path.splitext(f)[1]=='.h5' and 'spatialweights' not in f]\n",
    "if len(h5files) > 1:\n",
    "    raise Exception('Too many .h5 files found. Only keep the data file for this session')\n",
    "filename = h5files[0]\n",
    "filename = os.path.splitext(filename)[0]\n",
    "\n",
    "rois = ROIList.load(os.path.join(indir, filename + '_mc_RoiSet.zip'), fmt='ImageJ')\n",
    "dataset = sima.ImagingDataset.load(os.path.join(indir, filename+'_mc.sima'))\n",
    "dataset.add_ROIs(rois, 'from_ImageJ')\n",
    "signals = dataset.extract(rois)\n",
    "extracted_signals = np.asarray(signals['raw'])\n",
    "np.save(os.path.join(indir, filename + '_extractedsignals.npy'), extracted_signals)"
   ]
  }
 ],
 "metadata": {
  "kernelspec": {
   "display_name": "Python 3",
   "language": "python",
   "name": "python3"
  },
  "language_info": {
   "codemirror_mode": {
    "name": "ipython",
    "version": 3
   },
   "file_extension": ".py",
   "mimetype": "text/x-python",
   "name": "python",
   "nbconvert_exporter": "python",
   "pygments_lexer": "ipython3",
   "version": "3.7.3"
  }
 },
 "nbformat": 4,
 "nbformat_minor": 2
}
