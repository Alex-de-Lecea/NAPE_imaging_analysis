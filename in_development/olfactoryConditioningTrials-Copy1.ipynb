{
 "cells": [
  {
   "cell_type": "code",
   "execution_count": 1,
   "metadata": {},
   "outputs": [],
   "source": [
    "\"\"\"\n",
    "Creates trial order for arduino and for olfactometer.\n",
    "Three odors: CS+, CS-, and CS50\n",
    "Make sure to check counterbalance.\n",
    "\"\"\"\n",
    "\n",
    "import numpy as np\n",
    "import os\n",
    "import csv\n",
    "import xml.etree.ElementTree as etree"
   ]
  },
  {
   "cell_type": "code",
   "execution_count": 18,
   "metadata": {},
   "outputs": [
    {
     "name": "stdout",
     "output_type": "stream",
     "text": [
      "[1 2 3]\n"
     ]
    }
   ],
   "source": [
    "#name of session you're generating\n",
    "fname = 'pl01day6' # basename of the session's xml\n",
    "fdir = r'Y:\\charles_david\\olfactometer_order'\n",
    "#set parameters\n",
    "trials = 150\n",
    "maxrepeat = 3\n",
    "counterbalance = 1\n",
    "order = np.zeros((3,), dtype=int)\n",
    "for x in range(0,3):\n",
    "    order[0] = counterbalance\n",
    "    if counterbalance == 3:\n",
    "        order[1] = 1\n",
    "    else:                                                                                                                                                                              \n",
    "        order[1] = counterbalance + 1\n",
    "    if counterbalance >=2:\n",
    "        order[2] = counterbalance - 1\n",
    "    else:\n",
    "        order[2] = 3\n",
    "\n",
    "print(order)\n",
    "        \n",
    "# path declaration\n",
    "save_path = fdir\n",
    "fname_arduino = fname + '_arduino.txt'\n",
    "fname_olfactometer = fname + '_olfactometer.txt'\n",
    "xml_fpath = os.path.join(fdir, fname + '.xml')\n",
    "xml_savepath = os.path.join(fdir, fname + '_edited.xml')"
   ]
  },
  {
   "cell_type": "code",
   "execution_count": 20,
   "metadata": {},
   "outputs": [
    {
     "name": "stdout",
     "output_type": "stream",
     "text": [
      "[1 1 2 1 3 1 2 1 1 2 3 2 2 3 2 3 1 2 2 3 1 3 1 3 3 2 1 2 3 1 2 2 3 2 1 1 3\n",
      " 2 3 3 1 3 2 3 1 3 2 1 1 1 2 1 2 2 1 2 3 1 2 2 3 2 2 1 2 1 1 2 3 2 3 3 2 1\n",
      " 2 1 2 3 3 1 1 2 2 3 1 3 1 2 2 2 3 2 1 3 3 2 3 2 1 3 3 1 2 3 1 3 2 2 1 2 1\n",
      " 3 3 1 2 3 1 3 2 1 2 1 2 3 2 2 2 3 1 3 1 1 1 2 1 2 1 1 2 1 2 3 2 3 1 3 3 1\n",
      " 3 2]\n",
      "[1 1 1 1 0 1 1 1 1 1 0 0 1 0 0 0 1 1 0 0 1 0 1 0 0 1 1 1 0 1 1 1 0 0 1 1 0\n",
      " 1 0 0 1 0 0 0 1 0 0 1 1 1 0 1 0 1 1 1 0 1 1 0 0 1 0 1 0 1 1 1 0 0 0 0 1 1\n",
      " 1 1 0 0 0 1 1 1 1 0 1 0 1 0 1 1 0 0 1 0 0 0 0 1 1 0 0 1 0 0 1 0 1 0 1 1 1\n",
      " 0 0 1 1 0 1 0 0 1 0 1 1 0 1 0 0 0 1 0 1 1 1 1 1 0 1 1 1 1 1 0 0 0 1 0 0 1\n",
      " 0 1]\n"
     ]
    }
   ],
   "source": [
    "#generate cue order\n",
    "cueType = np.zeros((trials,), dtype=int)\n",
    "numRepeats = np.zeros((trials,), dtype=int)\n",
    "repeats = 1\n",
    "for x in range(0,trials):\n",
    "    if repeats >= maxrepeat:\n",
    "        if cueType[x-1] == 3:\n",
    "            cueType[x] = 1\n",
    "        else:\n",
    "            cueType[x] = cueType[x-1] + 1\n",
    "        repeats = 1\n",
    "    else:                                                                                                                                                                              \n",
    "        cueType[x] = np.random.randint(3, size=1) + 1\n",
    "        if cueType[x] == cueType[x-1]:\n",
    "            repeats = repeats + 1\n",
    "        \n",
    "print(cueType)\n",
    "\n",
    "#generate reward order\n",
    "trialType = np.zeros((trials,), dtype=int)\n",
    "for x in range(0,trials):\n",
    "    if cueType[x] == order[0]:\n",
    "        trialType[x] = 1\n",
    "    elif cueType[x] == order[1]:\n",
    "        trialType[x] = np.random.randint(2, size=1)\n",
    "    elif cueType[x] == order[2]:\n",
    "        trialType[x] == 0\n",
    "\n",
    "print(trialType)\n",
    "       "
   ]
  },
  {
   "cell_type": "code",
   "execution_count": 21,
   "metadata": {},
   "outputs": [],
   "source": [
    "#create text file to copy into arduino code\n",
    "os.chdir(save_path)\n",
    "with open(fname_arduino, 'w') as csvfile:\n",
    "    csvfile = csv.writer(csvfile, delimiter=',')\n",
    "    csvfile.writerow(trialType)\n",
    "    \n",
    "#create text file to copy into olfactometer code\n",
    "with open(fname_olfactometer, 'w') as olffile:\n",
    "    olffile.write(\"206A Olfactometer Sequence File\")\n",
    "    olffile.write(\"\\nVial\\tDelivery (ms)\\tDelay (s)\")\n",
    "    for x in range(0,trials):\n",
    "        olffile.write(\"\\n\" + str(cueType[x]) + \"\\tTrig\\tEdge\")"
   ]
  },
  {
   "cell_type": "code",
   "execution_count": null,
   "metadata": {},
   "outputs": [],
   "source": []
  }
 ],
 "metadata": {
  "kernelspec": {
   "display_name": "Python 2",
   "language": "python",
   "name": "python2"
  },
  "language_info": {
   "codemirror_mode": {
    "name": "ipython",
    "version": 2
   },
   "file_extension": ".py",
   "mimetype": "text/x-python",
   "name": "python",
   "nbconvert_exporter": "python",
   "pygments_lexer": "ipython2",
   "version": "2.7.16"
  }
 },
 "nbformat": 4,
 "nbformat_minor": 2
}
