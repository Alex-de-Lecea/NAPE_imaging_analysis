{
 "cells": [
  {
   "cell_type": "code",
   "execution_count": 1,
   "metadata": {},
   "outputs": [],
   "source": [
    "import numpy as np\n",
    "import os\n",
    "import csv"
   ]
  },
  {
   "cell_type": "code",
   "execution_count": 9,
   "metadata": {},
   "outputs": [],
   "source": [
    "#name of session you're generating\n",
    "fname = 'PL1_Day1'\n",
    "fdir = r'C:\\Users\\David\\Documents\\ImageActivate\\Sessions'\n",
    "\n",
    "save_path = fdir\n",
    "fname_arduino = fname + '_arduino.txt'"
   ]
  },
  {
   "cell_type": "code",
   "execution_count": 4,
   "metadata": {},
   "outputs": [],
   "source": [
    "#set parameters\n",
    "trials = 100\n",
    "maxrepeat = 3\n"
   ]
  },
  {
   "cell_type": "code",
   "execution_count": 6,
   "metadata": {},
   "outputs": [
    {
     "name": "stdout",
     "output_type": "stream",
     "text": [
      "[1 1 0 1 1 0 0 0 1 0 1 0 1 0 0 1 0 0 1 0 0 1 1 0 0 0 1 0 0 0 1 0 0 0 1 0 0\n",
      " 1 0 1 0 0 1 1 1 0 0 1 0 0 1 0 0 1 0 1 1 0 1 1 1 0 0 1 1 0 1 0 1 1 1 0 0 1\n",
      " 0 0 1 1 0 0 1 0 1 1 0 1 1 0 1 1 1 0 0 1 1 0 1 1 0 0]\n"
     ]
    }
   ],
   "source": [
    "#generate trial order\n",
    "trialType = np.zeros((trials,), dtype=int)\n",
    "numRepeats = np.zeros((trials,), dtype=int)\n",
    "repeats = 1\n",
    "for x in range(0,trials):\n",
    "    if repeats >= maxrepeat:\n",
    "        trialType[x] = 1 - trialType[x-1]\n",
    "        repeats = 1\n",
    "    else:\n",
    "        trialType[x] = np.random.randint(2, size=1)\n",
    "        if trialType[x] == trialType[x-1]:\n",
    "            repeats = repeats + 1\n",
    "        \n",
    "print(trialType)\n",
    "        "
   ]
  },
  {
   "cell_type": "code",
   "execution_count": 10,
   "metadata": {},
   "outputs": [],
   "source": [
    "#create text file to copy into arduino code\n",
    "os.chdir(save_path)\n",
    "with open(fname_arduino, 'w') as csvfile:\n",
    "    csvfile = csv.writer(csvfile, delimiter=',')\n",
    "    csvfile.writerow(trialType)"
   ]
  }
 ],
 "metadata": {
  "kernelspec": {
   "display_name": "Python 2",
   "language": "python",
   "name": "python2"
  },
  "language_info": {
   "codemirror_mode": {
    "name": "ipython",
    "version": 2
   },
   "file_extension": ".py",
   "mimetype": "text/x-python",
   "name": "python",
   "nbconvert_exporter": "python",
   "pygments_lexer": "ipython2",
   "version": "2.7.16"
  }
 },
 "nbformat": 4,
 "nbformat_minor": 2
}
