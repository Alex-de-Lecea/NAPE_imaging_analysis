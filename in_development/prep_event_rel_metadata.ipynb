{
 "cells": [
  {
   "cell_type": "code",
   "execution_count": 45,
   "metadata": {},
   "outputs": [],
   "source": [
    "import scipy.io as sio\n",
    "import os\n",
    "import pandas as pd\n",
    "import matplotlib.pyplot as plt\n",
    "import numpy as np"
   ]
  },
  {
   "cell_type": "code",
   "execution_count": null,
   "metadata": {},
   "outputs": [],
   "source": [
    "temp = os.path.join(indir, matfile)\n",
    "if not os.path.isfile(os.path.join(indir, os.path.splitext(matfile)[0] + '_results.mat')):\n",
    "    subprocess.call(\"\"\"matlab -r \"cd '%s';behavioranalysis('%s',%s);quit force\" \"\"\" %(matlabdir, temp, str(10E3)),\n",
    "                    shell=True)\n",
    "    \n",
    "behaviordata = sio.loadmat(os.path.join(indir, os.path.splitext(matfile)[0] + '_results.mat'))\n",
    "\n",
    "\n",
    "eventlog = np.squeeze(behaviordata['eventlog'])"
   ]
  },
  {
   "cell_type": "code",
   "execution_count": 11,
   "metadata": {},
   "outputs": [],
   "source": [
    "fdir = r'C:\\Users\\stuberadmin\\Downloads'\n",
    "fname = 'VJ_OFCVTA_7_0_6000_reverse_170706-140710_results.mat'\n",
    "\n",
    "raw_behav_dat = sio.loadmat(os.path.join(fdir, fname))"
   ]
  },
  {
   "cell_type": "code",
   "execution_count": 13,
   "metadata": {},
   "outputs": [],
   "source": [
    "# log.keys()"
   ]
  },
  {
   "cell_type": "code",
   "execution_count": 70,
   "metadata": {},
   "outputs": [],
   "source": [
    "# Calculate all events from the variable called \"log\" or \"eventlog\" (updated name in newer conditioning_prog)\n",
    "\n",
    "licks = eventlog[ eventlog['cond_id'] == 1 ]['sample'].values\n",
    "lickoffsets = eventlog[ eventlog['cond_id'] == 2 ]['sample'].values\n",
    "bgdpumps = eventlog[ eventlog['cond_id'] == 3 ]['sample'].values\n",
    "fxdpumps = eventlog[ (eventlog['cond_id'] == 4) & (eventlog['?'] == 0) ]['sample'].values\n",
    "cuesplus = eventlog[ eventlog['cond_id'] == 5 ]['sample'].values\n",
    "cuesminus = eventlog[ eventlog['cond_id'] == 6 ]['sample'].values\n",
    "cues = np.sort([cuesplus, cuesminus])\n",
    "laseronsets = eventlog[ eventlog['cond_id'] == 7 ]['sample'].values\n"
   ]
  },
  {
   "cell_type": "code",
   "execution_count": null,
   "metadata": {},
   "outputs": [],
   "source": []
  },
  {
   "cell_type": "code",
   "execution_count": 71,
   "metadata": {},
   "outputs": [],
   "source": [
    "## Parameters\n",
    "numpars = length(find(params=='+'))+1;\n",
    "listofpars = NaN(numpars,1);\n",
    "for i = 1:numpars-1\n",
    "    idxdelimiter = find(params=='+',1,'first');\n",
    "    listofpars(i) = str2num(params(1:idxdelimiter-1));\n",
    "    params(1:idxdelimiter)=[];\n",
    "end\n",
    "listofpars(numpars) = str2num(params);\n",
    "T_bgd = listofpars(1);\n",
    "r_bgd = listofpars(2);\n",
    "t_fxd = listofpars(3);\n",
    "r_fxd = listofpars(4);\n",
    "minITI = listofpars(5);\n",
    "maxITI = listofpars(6);\n",
    "cuedur = listofpars(7);\n",
    "sessionLim = listofpars(8);\n",
    "mindelaybgdtocue = listofpars(9);\n",
    "mindelayfxdtobgd = listofpars(10);\n",
    "numCSminus= listofpars(11);\n",
    "CSplusfreq = listofpars(12);\n",
    "CSminusfreq = listofpars(13);\n",
    "nocuesflag = listofpars(14);\n",
    "if length(listofpars)>14\n",
    "    trialbytrialbgdpumpflag = listofpars(15);\n",
    "elseif length(listofpars)>15\n",
    "    expitiflag = listofpars(16);\n",
    "elseif length(listofpars)>16\n",
    "    lasercueflag = listofpars(17);\n",
    "elseif length(listofpars)>17\n",
    "    laserrewardflag = listofpars(18);\n",
    "elseif length(listofpars)>18\n",
    "    laserpulseperiod = listofpars(19);\n",
    "elseif length(listofpars)>19\n",
    "    laserpulseoffperiod = listofpars(20);\n",
    "end\n",
    "if length(listofpars)>20\n",
    "    totPoissrew = listofpars(21);\n",
    "end\n",
    "if length(listofpars)>21\n",
    "    lasertrialbytrialflag = listofpars(22);\n",
    "end\n",
    "if length(listofpars)>22\n",
    "    csplusprob = listofpars(23);\n",
    "end\n",
    "if length(listofpars)>23\n",
    "    csminusprob = listofpars(24);\n",
    "end\n",
    "if length(listofpars)>24\n",
    "    randlaserflag = listofpars(25);\n",
    "end\n",
    "\n",
    "if sum(laserontrial)==length(cues)\n",
    "    lasertrialbytrialflag = 0;\n",
    "elseif sum(laserontrial)>0\n",
    "    lasertrialbytrialflag = 1;\n",
    "end\n",
    "csminusflagfortrial = ismember(cues,cuesminus);"
   ]
  },
  {
   "cell_type": "code",
   "execution_count": null,
   "metadata": {},
   "outputs": [],
   "source": []
  }
 ],
 "metadata": {
  "kernelspec": {
   "display_name": "Python 2",
   "language": "python",
   "name": "python2"
  },
  "language_info": {
   "codemirror_mode": {
    "name": "ipython",
    "version": 2
   },
   "file_extension": ".py",
   "mimetype": "text/x-python",
   "name": "python",
   "nbconvert_exporter": "python",
   "pygments_lexer": "ipython2",
   "version": "2.7.16"
  }
 },
 "nbformat": 4,
 "nbformat_minor": 2
}
