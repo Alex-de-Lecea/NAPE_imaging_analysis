{
 "cells": [
  {
   "cell_type": "markdown",
   "metadata": {},
   "source": [
    "\n",
    "### NAPE_Py3_7 environment"
   ]
  },
  {
   "cell_type": "code",
   "execution_count": null,
   "metadata": {},
   "outputs": [],
   "source": [
    "import cv2\n",
    "import imageio_ffmpeg\n",
    "import imageio\n",
    "\n",
    "import h5py\n",
    "import os\n",
    "import numpy as np\n",
    "import matplotlib.pyplot as plt\n",
    "import skimage"
   ]
  },
  {
   "cell_type": "code",
   "execution_count": null,
   "metadata": {},
   "outputs": [],
   "source": [
    "def find_nearest(array, value):\n",
    "    array = np.asarray(array)\n",
    "    idx = (np.abs(array - value)).argmin()\n",
    "    return idx, array[idx]\n"
   ]
  },
  {
   "cell_type": "code",
   "execution_count": null,
   "metadata": {},
   "outputs": [],
   "source": [
    "fdir = r'D:\\20200410_gcamp_chrmine\\vj_ofc_imageactivate_01_300_stim-006'\n",
    "fname = 'vj_ofc_imageactivate_01_300_stim-006'\n",
    "\n",
    "fname_sima = fname + '_sima_mc.h5'"
   ]
  },
  {
   "cell_type": "code",
   "execution_count": null,
   "metadata": {},
   "outputs": [],
   "source": [
    "h5_file = h5py.File(os.path.join(fdir, fname_sima), 'r')\n",
    "im = np.squeeze(np.array(h5_file.get(list(h5_file)[0]).value))\n",
    "print(im.dtype)\n",
    "im.shape"
   ]
  },
  {
   "cell_type": "code",
   "execution_count": null,
   "metadata": {},
   "outputs": [],
   "source": [
    "# initialize how many frames to average\n",
    "nframes_avg = 2 # number of frames on one side of reference frame (1 would be 3 frame avg)\n",
    "interval = nframes_avg + 1\n",
    "\n",
    "n_samples = im.shape[0]\n",
    "n_ypix = im.shape[1]\n",
    "n_xpix = im.shape[2]\n",
    "start_time = 0 # seconds\n",
    "end_time = 90 # seconds\n",
    "\n",
    "tvec = np.round(np.linspace(start_time, end_time, n_samples), decimals = 1)\n",
    "\n",
    "fs = np.round( float(n_samples)/(end_time - start_time), decimals = 2)/interval\n",
    "fs"
   ]
  },
  {
   "cell_type": "code",
   "execution_count": null,
   "metadata": {},
   "outputs": [],
   "source": [
    "stim_locs = [ (220, 250),\n",
    "              (180, 300),\n",
    "              (220, 350)]\n",
    "\n",
    "stim_locs = [ \n",
    "             (180, 300),\n",
    "             ]\n",
    "\n",
    "stim_initial_delay = 10 # s\n",
    "stim_pulse_dur = 0.01 # s\n",
    "stim_IPI = 0.49 # s\n",
    "stim_reps = 5\n",
    "\n",
    "stim_onset = []\n",
    "cumulative_time = stim_initial_delay\n",
    "for irep in range(stim_reps):\n",
    "    \n",
    "    if irep == 0:\n",
    "        stim_onset.append(stim_initial_delay)\n",
    "    else:\n",
    "        stim_onset.append(cumulative_time)\n",
    "    \n",
    "    cumulative_time += stim_pulse_dur + stim_IPI\n",
    "        \n",
    "stim_onset"
   ]
  },
  {
   "cell_type": "code",
   "execution_count": null,
   "metadata": {},
   "outputs": [],
   "source": [
    "# convert data to appropriate type\n",
    "# https://stackoverflow.com/questions/25485886/how-to-convert-a-16-bit-to-an-8-bit-image-in-opencv\n",
    "if np.issubdtype(np.uint16, im[0,0,0]) | np.issubdtype(np.int16, im[0,0,0]):\n",
    "    \n",
    "    ratio = np.amax(im) / 255\n",
    "    data = np.squeeze(im/ratio) # USER DEFINE!!!\n",
    "    \n",
    "elif np.issubdtype(np.float32, im[0,0,0]):\n",
    "    \n",
    "    data = im / np.max(im) # normalize the data to 0 - 1\n",
    "    data = 255 * data # Now scale by 255\n",
    "\n",
    "else:\n",
    "    ratio = 1\n",
    "\n",
    "im_uint8 = data.astype(np.uint8)"
   ]
  },
  {
   "cell_type": "code",
   "execution_count": null,
   "metadata": {},
   "outputs": [],
   "source": [
    "# define if want to trim borders and create save array\n",
    "trim_border = 0\n",
    "trim_pix = 0\n",
    "\n",
    "if trim_border == 1:\n",
    "    ypix_include = [trim_pix,n_ypix-trim_pix]\n",
    "    xpix_include = [trim_pix,n_xpix-trim_pix]\n",
    "else:\n",
    "    ypix_include = [0,n_ypix]\n",
    "    xpix_include = [0,n_xpix]\n",
    "\n",
    "ypix_total = len(range(ypix_include[0],ypix_include[1]))\n",
    "xpix_total = len(range(xpix_include[0],xpix_include[1]))\n",
    "    \n",
    "im_final = np.empty([len(range(interval,n_samples-interval,interval)),ypix_total,xpix_total], dtype='uint8')\n",
    "im_final.shape"
   ]
  },
  {
   "cell_type": "code",
   "execution_count": null,
   "metadata": {},
   "outputs": [],
   "source": [
    "\n",
    "# vid params\n",
    "vid_fps = 10.0\n",
    "contrast = 5 # half of brightness typically works\n",
    "brightness = 0 # 40 is good\n",
    "\n",
    "fout_path = os.path.join(fdir, fname + '_movie.avi')\n",
    "\n",
    "# text params\n",
    "font = cv2.FONT_HERSHEY_SIMPLEX\n",
    "text_color = (200,255,155)\n",
    "\n",
    "# arrow params\n",
    "arrow_color = (200,255,155)  \n",
    "thickness = 7\n"
   ]
  },
  {
   "cell_type": "code",
   "execution_count": null,
   "metadata": {},
   "outputs": [],
   "source": [
    "looping_frames = range(nframes_avg,n_samples-interval,interval)\n",
    "num_video_frames = len(looping_frames)\n",
    "im_final = np.empty([num_video_frames, ypix_total, xpix_total], dtype='uint8')\n",
    "\n",
    "# loop through each block of frames to average\n",
    "\n",
    "frame_count = 0\n",
    "for iframe in looping_frames:\n",
    "    \n",
    "    if nframes_avg == 0:\n",
    "        frames = iframe\n",
    "        im_avg = im_uint8[frames,ypix_include[0]:ypix_include[1],xpix_include[0]:xpix_include[1]]\n",
    "    else:     \n",
    "        frames = slice(iframe-nframes_avg,iframe+nframes_avg)\n",
    "        im_avg = np.mean( \n",
    "            im_uint8[frames,ypix_include[0]:ypix_include[1],xpix_include[0]:xpix_include[1]], axis = 0 )\n",
    "\n",
    "    # add time in seconds\n",
    "    frame_time = np.round(frame_count/fs, decimals = 2)\n",
    "    img_annote = cv2.putText(im_avg, str(frame_time) + ' sec' ,(30,50), \n",
    "                           font, 1, text_color, 2, cv2.LINE_AA)\n",
    "    \n",
    "    # add arrows indicating stim event\n",
    "    if frame_count in np.round(np.multiply(stim_onset, fs)):\n",
    "\n",
    "        for stim_loc in stim_locs:\n",
    "            arrow_start = tuple(np.subtract(stim_loc, (30, 30))) # get arrow start loc by subtracting 30 pixels for x and y\n",
    "            arrow_end = stim_loc\n",
    "            img_annote = cv2.arrowedLine(img_annote, arrow_start, arrow_end, \n",
    "                                                 arrow_color, thickness, tipLength = 0.3) \n",
    "    \n",
    "    # change brightness/contrast\n",
    "    img_annote = contrast*img_annote + brightness\n",
    "    img_annote = np.clip(img_annote, 0, 255)\n",
    "    \n",
    "    im_final[frame_count,:,:] = img_annote\n",
    "    \n",
    "    frame_count += 1\n"
   ]
  },
  {
   "cell_type": "code",
   "execution_count": null,
   "metadata": {
    "scrolled": true
   },
   "outputs": [],
   "source": [
    "# save the movie\n",
    "print(fout_path)\n",
    "imageio.mimwrite(fout_path, im_final , fps = 15.0)"
   ]
  },
  {
   "cell_type": "code",
   "execution_count": null,
   "metadata": {},
   "outputs": [],
   "source": [
    "plt.imshow(np.mean(im_final, axis = 0))\n",
    "#plt.axis([100, 400, 200, 400])\n",
    "#plt.gca().invert_yaxis()\n",
    "plt.clim([50, 70])"
   ]
  },
  {
   "cell_type": "code",
   "execution_count": null,
   "metadata": {},
   "outputs": [],
   "source": [
    "plt.imshow(im_final[50,:,:])\n",
    "plt.clim([50, 70])"
   ]
  },
  {
   "cell_type": "code",
   "execution_count": null,
   "metadata": {},
   "outputs": [],
   "source": []
  }
 ],
 "metadata": {
  "kernelspec": {
   "display_name": "Python 3",
   "language": "python",
   "name": "python3"
  },
  "language_info": {
   "codemirror_mode": {
    "name": "ipython",
    "version": 3
   },
   "file_extension": ".py",
   "mimetype": "text/x-python",
   "name": "python",
   "nbconvert_exporter": "python",
   "pygments_lexer": "ipython3",
   "version": "3.7.4"
  }
 },
 "nbformat": 4,
 "nbformat_minor": 2
}
