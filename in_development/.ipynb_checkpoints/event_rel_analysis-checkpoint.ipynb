{
 "cells": [
  {
   "cell_type": "code",
   "execution_count": 20,
   "metadata": {},
   "outputs": [],
   "source": [
    "import os\n",
    "import numpy as np\n",
    "import glob\n",
    "import pickle\n",
    "import seaborn as sns\n",
    "\n",
    "import utils"
   ]
  },
  {
   "cell_type": "code",
   "execution_count": 2,
   "metadata": {},
   "outputs": [],
   "source": [
    "# indicate a file to analyze\n",
    "fname = 'VJ_OFCVTA_7_260_D6'\n",
    "fdir = r'C:\\2pData\\Vijay data\\VJ_OFCVTA_7_D8_trained'\n",
    "flag_npil_corr = 0\n",
    "\n",
    "# set the sampling rate\n",
    "fs = 5\n",
    "\n",
    "if flag_npil_corr == 1:\n",
    "    signals_fpath = os.path.join(fdir, \"{}_neuropil_corrected_signals*\".format(fname))\n",
    "    \n",
    "elif flag_npil_corr == 0:\n",
    "    signals_fpath = os.path.join(fdir, \"*_extractedsignals*\")\n",
    "\n",
    "save_path = os.path.join(fdir, 'event_rel_analysis_' + fname)\n",
    "\n",
    "utils.check_exist_dir(save_path) # make the save directory"
   ]
  },
  {
   "cell_type": "code",
   "execution_count": 42,
   "metadata": {},
   "outputs": [],
   "source": [
    "# trial windowing \n",
    "trial_start_end_seconds = np.array([-1, 3]) # trial windowing in seconds relative to ttl-onset/trial-onset\n",
    "trial_window_samp = trial_start_end_seconds*fs # turn trial start/end times to samples\n",
    "num_samples_trial = len( np.arange(trial_window_samp[0], trial_window_samp[1]) )\n",
    "tvec = np.linspace(trial_start_end_seconds[0], trial_start_end_seconds[1], num_samples_trial+1)"
   ]
  },
  {
   "cell_type": "code",
   "execution_count": 38,
   "metadata": {},
   "outputs": [],
   "source": [
    "# load time-series data\n",
    "glob_signal_files = glob.glob(signals_fpath)\n",
    "if len(glob_signal_files) == 1:\n",
    "    signals = np.squeeze(np.load(glob_signal_files[0]))\n",
    "else:\n",
    "    print('Warning: No or multiple signal files detected; using first detected file')\n",
    "\n",
    "num_rois = signals.shape[0]\n",
    "    \n",
    "#load behavioral data and trial info\n",
    "try:\n",
    "    glob_frame_files = glob.glob(os.path.join(fdir, \"framenumberforevents_{}_*\".format(fname))) # look for a file in specified directory\n",
    "    event_frames = pickle.load( open( glob_frame_files[0], \"rb\" ) ) # latin1 b/c original pickle made in python 2\n",
    "\n",
    "except:\n",
    "    print('Cannot find behavioral data file or file path is incorrect; utils.extract_trial_data will throw error.')"
   ]
  },
  {
   "cell_type": "code",
   "execution_count": null,
   "metadata": {},
   "outputs": [],
   "source": [
    "array([10])"
   ]
  },
  {
   "cell_type": "code",
   "execution_count": null,
   "metadata": {},
   "outputs": [],
   "source": [
    "event_frames = {}\n",
    "event_frames['slm_stim'] = "
   ]
  },
  {
   "cell_type": "code",
   "execution_count": 56,
   "metadata": {},
   "outputs": [
    {
     "data": {
      "text/plain": [
       "{'licks': array([  103.,   118.,   473., ..., 15039., 15099., 15130.]),\n",
       " 'minus': array([   35.,   308.,   580.,   644.,  1035.,  1879.,  2538.,  2816.,\n",
       "         3674.,  3773.,  4252.,  4888.,  5017.,  5155.,  5391.,  5723.,\n",
       "         6009.,  6434.,  6891.,  7028.,  7482.,  7716.,  8139.,  8338.,\n",
       "         8512.,  9345.,  9426.,  9964., 10326., 10449., 10671., 10772.,\n",
       "        10850., 10918., 11138., 11776., 12001., 12232., 12280., 13100.,\n",
       "        13322., 13884., 13936., 14050., 14153., 14521., 14593., 14913.,\n",
       "        14961., 15128.]),\n",
       " 'minus_rewarded': array([], dtype=float64),\n",
       " 'minus_unrewarded': array([   35.,   308.,   580.,   644.,  1035.,  1879.,  2538.,  2816.,\n",
       "         3674.,  3773.,  4252.,  4888.,  5017.,  5155.,  5391.,  5723.,\n",
       "         6009.,  6434.,  6891.,  7028.,  7482.,  7716.,  8139.,  8338.,\n",
       "         8512.,  9345.,  9426.,  9964., 10326., 10449., 10671., 10772.,\n",
       "        10850., 10918., 11138., 11776., 12001., 12232., 12280., 13100.,\n",
       "        13322., 13884., 13936., 14050., 14153., 14521., 14593., 14913.,\n",
       "        14961., 15128.]),\n",
       " 'plus': array([  471.,   521.,   751.,  1104.,  1262.,  1329.,  1414.,  1491.,\n",
       "         1589.,  1644.,  1817.,  2085.,  2351.,  2616.,  2982.,  3157.,\n",
       "         3400.,  3627.,  3723.,  4304.,  4439.,  4525.,  5268.,  5781.,\n",
       "         6235.,  6318.,  6642.,  7378.,  7802.,  8730.,  8928.,  9081.,\n",
       "         9154.,  9884., 10180., 11252., 11360., 11566., 12047., 12118.,\n",
       "        12530., 12989., 13462., 13542., 13766., 14208., 14309., 14411.,\n",
       "        14678., 15008.]),\n",
       " 'plus_rewarded': array([  471.,   521.,   751.,  1104.,  1262.,  1329.,  1414.,  1491.,\n",
       "         1589.,  1644.,  1817.,  2085.,  2351.,  2616.,  2982.,  3157.,\n",
       "         3400.,  3627.,  3723.,  4304.,  4439.,  4525.,  5268.,  5781.,\n",
       "         6235.,  6318.,  6642.,  7378.,  7802.,  8730.,  8928.,  9081.,\n",
       "         9154.,  9884., 10180., 11252., 11360., 11566., 12047., 12118.,\n",
       "        12530., 12989., 13462., 13542., 13766., 14208., 14309., 14411.,\n",
       "        14678., 15008.]),\n",
       " 'plus_unrewarded': array([], dtype=float64)}"
      ]
     },
     "execution_count": 56,
     "metadata": {},
     "output_type": "execute_result"
    }
   ],
   "source": []
  },
  {
   "cell_type": "code",
   "execution_count": 11,
   "metadata": {},
   "outputs": [
    {
     "data": {
      "text/plain": [
       "['licks',\n",
       " 'plus_unrewarded',\n",
       " 'minus_unrewarded',\n",
       " 'minus_rewarded',\n",
       " 'plus',\n",
       " 'plus_rewarded',\n",
       " 'minus']"
      ]
     },
     "execution_count": 11,
     "metadata": {},
     "output_type": "execute_result"
    }
   ],
   "source": [
    "conditions = event_frames.keys()\n",
    "conditions"
   ]
  },
  {
   "cell_type": "code",
   "execution_count": 15,
   "metadata": {
    "scrolled": false
   },
   "outputs": [],
   "source": [
    "data_dict = utils.extract_trial_data(signals, trial_window_samp[0], trial_window_samp[1], event_frames, conditions)"
   ]
  },
  {
   "cell_type": "code",
   "execution_count": 53,
   "metadata": {},
   "outputs": [
    {
     "data": {
      "image/png": "[encoded data removed]",
      "text/plain": [
       "<Figure size 432x288 with 2 Axes>"
      ]
     },
     "metadata": {
      "needs_background": "light"
     },
     "output_type": "display_data"
    }
   ],
   "source": [
    "\n",
    "roi_avg = np.mean(data_dict['plus']['data'], axis = 0) # data dimensions are trials x roi x samples\n",
    "\n",
    "\n",
    "ax = sns.heatmap(roi_avg)\n",
    "ax.set_xticklabels(tvec);"
   ]
  },
  {
   "cell_type": "code",
   "execution_count": null,
   "metadata": {},
   "outputs": [],
   "source": [
    "for cond in conditions:\n",
    "    \n",
    "    data_dict[cond]['data']\n",
    "    \n",
    "    \n",
    "    "
   ]
  }
 ],
 "metadata": {
  "kernelspec": {
   "display_name": "Python 2",
   "language": "python",
   "name": "python2"
  },
  "language_info": {
   "codemirror_mode": {
    "name": "ipython",
    "version": 2
   },
   "file_extension": ".py",
   "mimetype": "text/x-python",
   "name": "python",
   "nbconvert_exporter": "python",
   "pygments_lexer": "ipython2",
   "version": "2.7.16"
  }
 },
 "nbformat": 4,
 "nbformat_minor": 2
}
