{
 "cells": [
  {
   "cell_type": "code",
   "execution_count": 1,
   "metadata": {},
   "outputs": [],
   "source": [
    "\"\"\"\n",
    "The second half of this code takes in a bruker mk pt xml, extracts the existing trial templates, and replicates those \n",
    "trials according to a trial condition list provided.\n",
    "\"\"\"\n",
    "\n",
    "import numpy as np\n",
    "import os\n",
    "import csv\n",
    "import xml.etree.ElementTree as etree"
   ]
  },
  {
   "cell_type": "code",
   "execution_count": 2,
   "metadata": {},
   "outputs": [],
   "source": [
    "#name of session you're generating\n",
    "fname = 'test_2_group_10_rois-000_series' # basename of the session's xml\n",
    "fdir = r'D:\\test_2_group_10_rois-000'\n",
    "#set parameters\n",
    "trials = 100\n",
    "maxrepeat = 3\n",
    "\n",
    "# path declaration\n",
    "save_path = fdir\n",
    "fname_arduino = fname + '_arduino.txt'\n",
    "xml_fpath = os.path.join(fdir, fname + '.xml')\n",
    "xml_savepath = os.path.join(fdir, fname + '_edited.xml')"
   ]
  },
  {
   "cell_type": "code",
   "execution_count": 3,
   "metadata": {},
   "outputs": [],
   "source": [
    "# loads the bruker mk pt xml, creates a dict of the template trial elements, and ultimately deletes those elements from the xml\n",
    "def get_trial_types(root_xml):\n",
    "    \n",
    "    element_dict = {}\n",
    "    for idx, element in enumerate(root_xml.findall('.//PVMarkPointElement')):\n",
    "\n",
    "        key_name = 'trial_{}'.format(idx)\n",
    "        element_dict[key_name] = element\n",
    "\n",
    "        # get rid of existing trials; we will repopulate\n",
    "        root_xml.remove(element)\n",
    "\n",
    "    return element_dict\n",
    "\n",
    "\n",
    "# adds trial elements based on vector of trial IDs supplied\n",
    "def add_mk_pt_trials(trial_IDs, element_dict, root_xml):\n",
    "    \n",
    "    for trial_ID in trialType:\n",
    "        trial_element = element_dict['trial_{}'.format(trial_ID)]\n",
    "\n",
    "        root_xml.append(trial_element)\n",
    "        \n",
    "        \n",
    "def make_mk_pt_xml_main(trial_IDs, xml_fpath, xml_savepath):\n",
    "    # load and parse xml\n",
    "    et = etree.parse(xml_fpath)\n",
    "    xml_parse = et.getroot()\n",
    "\n",
    "    element_dict = get_trial_types(xml_parse) # makes a dict of existing default trials in xml; then deletes those trial elements\n",
    "    add_mk_pt_trials(trial_IDs, element_dict, xml_parse) # repopulate trials based on order in trial_IDs\n",
    "\n",
    "    # Write back to file\n",
    "    et.write(xml_savepath)"
   ]
  },
  {
   "cell_type": "code",
   "execution_count": 4,
   "metadata": {},
   "outputs": [
    {
     "name": "stdout",
     "output_type": "stream",
     "text": [
      "[0 0 1 1 0 0 1 0 1 0 1 0 1 0 0 0 1 0 1 1 1 0 1 0 0 1 0 1 0 1 0 1 0 0 1 1 1\n",
      " 0 1 0 0 1 1 0 0 1 0 1 1 0 1 1 0 1 0 0 1 1 0 1 1 0 0 1 1 0 0 1 1 0 0 0 1 0\n",
      " 1 0 1 1 0 0 1 0 1 0 1 0 1 0 1 0 0 1 1 0 1 1 0 0 1 1]\n"
     ]
    }
   ],
   "source": [
    "#generate trial order\n",
    "trialType = np.zeros((trials,), dtype=int)\n",
    "numRepeats = np.zeros((trials,), dtype=int)\n",
    "repeats = 1\n",
    "for x in range(0,trials):\n",
    "    if repeats >= maxrepeat:\n",
    "        trialType[x] = 1 - trialType[x-1]\n",
    "        repeats = 1\n",
    "    else:\n",
    "        trialType[x] = np.random.randint(2, size=1)\n",
    "        if trialType[x] == trialType[x-1]:\n",
    "            repeats = repeats + 1\n",
    "        \n",
    "print(trialType)\n",
    "        "
   ]
  },
  {
   "cell_type": "code",
   "execution_count": 5,
   "metadata": {},
   "outputs": [
    {
     "ename": "IOError",
     "evalue": "[Errno 2] No such file or directory: 'D:\\\\test_2_group_10_rois-000\\\\test_2_group_10_rois-000_series.xml'",
     "output_type": "error",
     "traceback": [
      "\u001b[1;31m---------------------------------------------------------------------------\u001b[0m",
      "\u001b[1;31mIOError\u001b[0m                                   Traceback (most recent call last)",
      "\u001b[1;32m<ipython-input-5-1f3a1f57eb5d>\u001b[0m in \u001b[0;36m<module>\u001b[1;34m()\u001b[0m\n\u001b[1;32m----> 1\u001b[1;33m \u001b[0mmake_mk_pt_xml_main\u001b[0m\u001b[1;33m(\u001b[0m\u001b[0mtrialType\u001b[0m\u001b[1;33m,\u001b[0m \u001b[0mxml_fpath\u001b[0m\u001b[1;33m,\u001b[0m \u001b[0mxml_savepath\u001b[0m\u001b[1;33m)\u001b[0m\u001b[1;33m\u001b[0m\u001b[0m\n\u001b[0m",
      "\u001b[1;32m<ipython-input-3-10f223521c69>\u001b[0m in \u001b[0;36mmake_mk_pt_xml_main\u001b[1;34m(trial_IDs, xml_fpath, xml_savepath)\u001b[0m\n\u001b[0;32m     25\u001b[0m \u001b[1;32mdef\u001b[0m \u001b[0mmake_mk_pt_xml_main\u001b[0m\u001b[1;33m(\u001b[0m\u001b[0mtrial_IDs\u001b[0m\u001b[1;33m,\u001b[0m \u001b[0mxml_fpath\u001b[0m\u001b[1;33m,\u001b[0m \u001b[0mxml_savepath\u001b[0m\u001b[1;33m)\u001b[0m\u001b[1;33m:\u001b[0m\u001b[1;33m\u001b[0m\u001b[0m\n\u001b[0;32m     26\u001b[0m     \u001b[1;31m# load and parse xml\u001b[0m\u001b[1;33m\u001b[0m\u001b[1;33m\u001b[0m\u001b[0m\n\u001b[1;32m---> 27\u001b[1;33m     \u001b[0met\u001b[0m \u001b[1;33m=\u001b[0m \u001b[0metree\u001b[0m\u001b[1;33m.\u001b[0m\u001b[0mparse\u001b[0m\u001b[1;33m(\u001b[0m\u001b[0mxml_fpath\u001b[0m\u001b[1;33m)\u001b[0m\u001b[1;33m\u001b[0m\u001b[0m\n\u001b[0m\u001b[0;32m     28\u001b[0m     \u001b[0mxml_parse\u001b[0m \u001b[1;33m=\u001b[0m \u001b[0met\u001b[0m\u001b[1;33m.\u001b[0m\u001b[0mgetroot\u001b[0m\u001b[1;33m(\u001b[0m\u001b[1;33m)\u001b[0m\u001b[1;33m\u001b[0m\u001b[0m\n\u001b[0;32m     29\u001b[0m \u001b[1;33m\u001b[0m\u001b[0m\n",
      "\u001b[1;32mc:\\users\\david\\anaconda3\\envs\\sima_env\\lib\\xml\\etree\\ElementTree.pyc\u001b[0m in \u001b[0;36mparse\u001b[1;34m(source, parser)\u001b[0m\n\u001b[0;32m   1180\u001b[0m \u001b[1;32mdef\u001b[0m \u001b[0mparse\u001b[0m\u001b[1;33m(\u001b[0m\u001b[0msource\u001b[0m\u001b[1;33m,\u001b[0m \u001b[0mparser\u001b[0m\u001b[1;33m=\u001b[0m\u001b[0mNone\u001b[0m\u001b[1;33m)\u001b[0m\u001b[1;33m:\u001b[0m\u001b[1;33m\u001b[0m\u001b[0m\n\u001b[0;32m   1181\u001b[0m     \u001b[0mtree\u001b[0m \u001b[1;33m=\u001b[0m \u001b[0mElementTree\u001b[0m\u001b[1;33m(\u001b[0m\u001b[1;33m)\u001b[0m\u001b[1;33m\u001b[0m\u001b[0m\n\u001b[1;32m-> 1182\u001b[1;33m     \u001b[0mtree\u001b[0m\u001b[1;33m.\u001b[0m\u001b[0mparse\u001b[0m\u001b[1;33m(\u001b[0m\u001b[0msource\u001b[0m\u001b[1;33m,\u001b[0m \u001b[0mparser\u001b[0m\u001b[1;33m)\u001b[0m\u001b[1;33m\u001b[0m\u001b[0m\n\u001b[0m\u001b[0;32m   1183\u001b[0m     \u001b[1;32mreturn\u001b[0m \u001b[0mtree\u001b[0m\u001b[1;33m\u001b[0m\u001b[0m\n\u001b[0;32m   1184\u001b[0m \u001b[1;33m\u001b[0m\u001b[0m\n",
      "\u001b[1;32mc:\\users\\david\\anaconda3\\envs\\sima_env\\lib\\xml\\etree\\ElementTree.pyc\u001b[0m in \u001b[0;36mparse\u001b[1;34m(self, source, parser)\u001b[0m\n\u001b[0;32m    645\u001b[0m         \u001b[0mclose_source\u001b[0m \u001b[1;33m=\u001b[0m \u001b[0mFalse\u001b[0m\u001b[1;33m\u001b[0m\u001b[0m\n\u001b[0;32m    646\u001b[0m         \u001b[1;32mif\u001b[0m \u001b[1;32mnot\u001b[0m \u001b[0mhasattr\u001b[0m\u001b[1;33m(\u001b[0m\u001b[0msource\u001b[0m\u001b[1;33m,\u001b[0m \u001b[1;34m\"read\"\u001b[0m\u001b[1;33m)\u001b[0m\u001b[1;33m:\u001b[0m\u001b[1;33m\u001b[0m\u001b[0m\n\u001b[1;32m--> 647\u001b[1;33m             \u001b[0msource\u001b[0m \u001b[1;33m=\u001b[0m \u001b[0mopen\u001b[0m\u001b[1;33m(\u001b[0m\u001b[0msource\u001b[0m\u001b[1;33m,\u001b[0m \u001b[1;34m\"rb\"\u001b[0m\u001b[1;33m)\u001b[0m\u001b[1;33m\u001b[0m\u001b[0m\n\u001b[0m\u001b[0;32m    648\u001b[0m             \u001b[0mclose_source\u001b[0m \u001b[1;33m=\u001b[0m \u001b[0mTrue\u001b[0m\u001b[1;33m\u001b[0m\u001b[0m\n\u001b[0;32m    649\u001b[0m         \u001b[1;32mtry\u001b[0m\u001b[1;33m:\u001b[0m\u001b[1;33m\u001b[0m\u001b[0m\n",
      "\u001b[1;31mIOError\u001b[0m: [Errno 2] No such file or directory: 'D:\\\\test_2_group_10_rois-000\\\\test_2_group_10_rois-000_series.xml'"
     ]
    }
   ],
   "source": [
    "make_mk_pt_xml_main(trialType, xml_fpath, xml_savepath)"
   ]
  },
  {
   "cell_type": "code",
   "execution_count": 6,
   "metadata": {},
   "outputs": [
    {
     "ename": "WindowsError",
     "evalue": "[Error 2] The system cannot find the file specified: 'D:\\\\test_2_group_10_rois-000'",
     "output_type": "error",
     "traceback": [
      "\u001b[1;31m---------------------------------------------------------------------------\u001b[0m",
      "\u001b[1;31mWindowsError\u001b[0m                              Traceback (most recent call last)",
      "\u001b[1;32m<ipython-input-6-93b71c87a0cf>\u001b[0m in \u001b[0;36m<module>\u001b[1;34m()\u001b[0m\n\u001b[0;32m      1\u001b[0m \u001b[1;31m#create text file to copy into arduino code\u001b[0m\u001b[1;33m\u001b[0m\u001b[1;33m\u001b[0m\u001b[0m\n\u001b[1;32m----> 2\u001b[1;33m \u001b[0mos\u001b[0m\u001b[1;33m.\u001b[0m\u001b[0mchdir\u001b[0m\u001b[1;33m(\u001b[0m\u001b[0msave_path\u001b[0m\u001b[1;33m)\u001b[0m\u001b[1;33m\u001b[0m\u001b[0m\n\u001b[0m\u001b[0;32m      3\u001b[0m \u001b[1;32mwith\u001b[0m \u001b[0mopen\u001b[0m\u001b[1;33m(\u001b[0m\u001b[0mfname_arduino\u001b[0m\u001b[1;33m,\u001b[0m \u001b[1;34m'w'\u001b[0m\u001b[1;33m)\u001b[0m \u001b[1;32mas\u001b[0m \u001b[0mcsvfile\u001b[0m\u001b[1;33m:\u001b[0m\u001b[1;33m\u001b[0m\u001b[0m\n\u001b[0;32m      4\u001b[0m     \u001b[0mcsvfile\u001b[0m \u001b[1;33m=\u001b[0m \u001b[0mcsv\u001b[0m\u001b[1;33m.\u001b[0m\u001b[0mwriter\u001b[0m\u001b[1;33m(\u001b[0m\u001b[0mcsvfile\u001b[0m\u001b[1;33m,\u001b[0m \u001b[0mdelimiter\u001b[0m\u001b[1;33m=\u001b[0m\u001b[1;34m','\u001b[0m\u001b[1;33m)\u001b[0m\u001b[1;33m\u001b[0m\u001b[0m\n\u001b[0;32m      5\u001b[0m     \u001b[0mcsvfile\u001b[0m\u001b[1;33m.\u001b[0m\u001b[0mwriterow\u001b[0m\u001b[1;33m(\u001b[0m\u001b[0mtrialType\u001b[0m\u001b[1;33m)\u001b[0m\u001b[1;33m\u001b[0m\u001b[0m\n",
      "\u001b[1;31mWindowsError\u001b[0m: [Error 2] The system cannot find the file specified: 'D:\\\\test_2_group_10_rois-000'"
     ]
    }
   ],
   "source": [
    "#create text file to copy into arduino code\n",
    "os.chdir(save_path)\n",
    "with open(fname_arduino, 'w') as csvfile:\n",
    "    csvfile = csv.writer(csvfile, delimiter=',')\n",
    "    csvfile.writerow(trialType)"
   ]
  },
  {
   "cell_type": "code",
   "execution_count": null,
   "metadata": {},
   "outputs": [],
   "source": []
  }
 ],
 "metadata": {
  "kernelspec": {
   "display_name": "Python 2",
   "language": "python",
   "name": "python2"
  },
  "language_info": {
   "codemirror_mode": {
    "name": "ipython",
    "version": 2
   },
   "file_extension": ".py",
   "mimetype": "text/x-python",
   "name": "python",
   "nbconvert_exporter": "python",
   "pygments_lexer": "ipython2",
   "version": "2.7.16"
  }
 },
 "nbformat": 4,
 "nbformat_minor": 2
}
