{
 "cells": [
  {
   "cell_type": "code",
   "execution_count": 1,
   "metadata": {},
   "outputs": [],
   "source": [
    "import sima_motion_correction\n",
    "reload(sima_motion_correction)\n",
    "import glob\n",
    "import multiprocessing as mp"
   ]
  },
  {
   "cell_type": "code",
   "execution_count": 3,
   "metadata": {},
   "outputs": [
    {
     "name": "stdout",
     "output_type": "stream",
     "text": [
      "2 files to analyze\n",
      "Total CPU cores for parallel processing: 2\n",
      "Wall time: 4min 1s\n"
     ]
    }
   ],
   "source": [
    "%%time\n",
    "\n",
    "fdir = 'C:\\\\2pData\\\\Sean\\\\'\n",
    "max_disp = [30, 50] \n",
    "save_displacement = False\n",
    "\n",
    "# gather all tif or h5 files in root directory\n",
    "fpaths = []\n",
    "types = ['*.tif', '*.tiff', '*.h5']\n",
    "for type in types:\n",
    "    fpaths.extend(glob.glob(fdir + type))\n",
    "print(str(len(fpaths)) + ' files to analyze')\n",
    "\n",
    "# perform parallel processing\n",
    "num_processes = min(mp.cpu_count(), len(fpaths))\n",
    "print( 'Total CPU cores for parallel processing: ' + str(num_processes) )\n",
    "\n",
    "pool = mp.Pool(processes = num_processes)\n",
    "pool.map(sima_motion_correction.unpack, [(file, max_disp) for file in fpaths])\n",
    "pool.close()\n",
    "pool.join()"
   ]
  },
  {
   "cell_type": "code",
   "execution_count": null,
   "metadata": {},
   "outputs": [],
   "source": []
  }
 ],
 "metadata": {
  "kernelspec": {
   "display_name": "Python 2",
   "language": "python",
   "name": "python2"
  },
  "language_info": {
   "codemirror_mode": {
    "name": "ipython",
    "version": 2
   },
   "file_extension": ".py",
   "mimetype": "text/x-python",
   "name": "python",
   "nbconvert_exporter": "python",
   "pygments_lexer": "ipython2",
   "version": "2.7.16"
  }
 },
 "nbformat": 4,
 "nbformat_minor": 2
}
