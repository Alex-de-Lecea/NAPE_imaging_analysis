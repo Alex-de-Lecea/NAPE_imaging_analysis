{
 "cells": [
  {
   "cell_type": "code",
   "execution_count": null,
   "metadata": {},
   "outputs": [],
   "source": [
    "\n",
    "\"\"\"\n",
    "Finds any .tif, .tiff, .h5 files in the requested directory and performs SIMA-based motion correction and fft-based bidirection \n",
    "offset correction. This code parallelizes the computation at the session level by passing the multiple file paths (if there are \n",
    "more than one recordings) to the multiprocessing map function. The script sima_motion_correction contains the wrapping\n",
    "code for SIMA and the custom-created class for bidirection offset correction.\n",
    "\n",
    "See these documentations for details:\n",
    "\n",
    "https://github.com/losonczylab/sima\n",
    "http://www.losonczylab.org/sima/1.3.2/\n",
    "https://www.frontiersin.org/articles/10.3389/fninf.2014.00080/full\n",
    "\n",
    "required packages: \n",
    "sima, glob, multiprocessing, numpy, h5py, pickle (optional if want to save displacement file) \n",
    "\n",
    "Parameters\n",
    "----------\n",
    "\n",
    "fdir : string\n",
    "    root file directory. \n",
    "\n",
    "max_disp : list of two entries\n",
    "    Each entry is an int. First entry is the y-axis maximum allowed displacement, second is the x-axis max allowed displacement.\n",
    "    The shift for each line cannot go above these values.\n",
    "\n",
    "save_displacement : bool \n",
    "    Whether or not to have SIMA save the calculated displacements over time. def: False; NOTE: if this is switched to True,\n",
    "    it can double the time to perform motion correction.\n",
    "\n",
    "Output\n",
    "-------\n",
    "motion corrected file (in the format of h5) with \"_sima_mc\" appended to the end of the file name\n",
    "    \n",
    "\n",
    "\"\"\""
   ]
  },
  {
   "cell_type": "code",
   "execution_count": null,
   "metadata": {},
   "outputs": [],
   "source": [
    "import sima_motion_correction\n",
    "reload(sima_motion_correction)\n",
    "import glob\n",
    "import multiprocessing as mp"
   ]
  },
  {
   "cell_type": "code",
   "execution_count": null,
   "metadata": {},
   "outputs": [],
   "source": [
    "def batch_process(fdir, max_disp = [30, 50], save_displacement = False):\n",
    "\n",
    "    fdir = 'C:\\\\2pData\\\\Sean\\\\'\n",
    "    max_disp = [30, 50] \n",
    "    save_displacement = False\n",
    "\n",
    "    # gather all tif or h5 files in root directory\n",
    "    fpaths = []\n",
    "    types = ['*.tif', '*.tiff', '*.h5']\n",
    "    for type in types:\n",
    "        fpaths.extend(glob.glob(fdir + type))\n",
    "    print(str(len(fpaths)) + ' files to analyze')\n",
    "\n",
    "    # perform parallel processing\n",
    "    num_processes = min(mp.cpu_count(), len(fpaths))\n",
    "    print( 'Total CPU cores for parallel processing: ' + str(num_processes) )\n",
    "\n",
    "    pool = mp.Pool(processes = num_processes)\n",
    "    pool.map(sima_motion_correction.unpack, [(file, max_disp) for file in fpaths])\n",
    "    pool.close()\n",
    "    pool.join()"
   ]
  },
  {
   "cell_type": "code",
   "execution_count": null,
   "metadata": {},
   "outputs": [],
   "source": [
    "if __name__ == \"__main__\":\n",
    "    fdir = raw_input()\n",
    "    batch_process(fdir)"
   ]
  },
  {
   "cell_type": "code",
   "execution_count": null,
   "metadata": {},
   "outputs": [],
   "source": []
  }
 ],
 "metadata": {
  "kernelspec": {
   "display_name": "Python 2",
   "language": "python",
   "name": "python2"
  },
  "language_info": {
   "codemirror_mode": {
    "name": "ipython",
    "version": 2
   },
   "file_extension": ".py",
   "mimetype": "text/x-python",
   "name": "python",
   "nbconvert_exporter": "python",
   "pygments_lexer": "ipython2",
   "version": "2.7.16"
  }
 },
 "nbformat": 4,
 "nbformat_minor": 2
}
