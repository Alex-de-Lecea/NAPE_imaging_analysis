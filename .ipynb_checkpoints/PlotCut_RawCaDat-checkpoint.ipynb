{
 "cells": [
  {
   "cell_type": "code",
   "execution_count": 30,
   "metadata": {},
   "outputs": [],
   "source": [
    "#import sima and other dependents\n",
    "\n",
    "import sima\n",
    "import sima.motion\n",
    "from sima.motion import HiddenMarkov2D\n",
    "import numpy as np\n",
    "import array\n",
    "import os\n",
    "import h5py\n",
    "\n",
    "from PIL import Image"
   ]
  },
  {
   "cell_type": "code",
   "execution_count": 31,
   "metadata": {
    "scrolled": true
   },
   "outputs": [
    {
     "data": {
      "text/plain": [
       "'C:/2pData/Vijay data/VJ_OFCVTA_7_D8_trained/suite2p/plane0/VJ_OFCVTA_7_260_D6_mc.h5'"
      ]
     },
     "metadata": {},
     "output_type": "display_data"
    },
    {
     "data": {
      "text/plain": [
       "(1L, 15169L, 1L, 512L, 512L, 1L)"
      ]
     },
     "execution_count": 31,
     "metadata": {},
     "output_type": "execute_result"
    }
   ],
   "source": [
    "filename = 'VJ_OFCVTA_7_260_D6_mc'\n",
    "root_session_folder = 'C:/2pData/Vijay data/VJ_OFCVTA_7_D8_trained/'\n",
    "raw_data_folder = root_session_folder + 'suite2p/plane0/'\n",
    "\n",
    "tif_h5 = 1 # USER DEFINE: 0 for tiff, 1 for h5\n",
    "\n",
    "if tif_h5 == 0:\n",
    "    datafile = os.path.join(raw_data_folder, '%s.tif'%filename)\n",
    "    # first create sima sequence, then convert to np array as int16\n",
    "    imarray = np.array( sima.Sequence.create('TIFF', datafile) ).astype('uint16')\n",
    "elif tif_h5 == 1:\n",
    "    datafile = os.path.join(raw_data_folder, '%s.h5'%filename)\n",
    "    imarray = np.array( [sima.Sequence.create('HDF5', datafile, 'tyx')] ).astype('uint16') \n",
    "    \n",
    "display(datafile)\n",
    "imarray.shape"
   ]
  },
  {
   "cell_type": "code",
   "execution_count": 4,
   "metadata": {},
   "outputs": [
    {
     "data": {
      "text/plain": [
       "(1L, 512L, 512L, 1L)"
      ]
     },
     "metadata": {},
     "output_type": "display_data"
    }
   ],
   "source": [
    "std_proj = np.std(imarray, axis=0 )\n",
    "display(std_proj.shape)"
   ]
  },
  {
   "cell_type": "code",
   "execution_count": null,
   "metadata": {},
   "outputs": [],
   "source": [
    "%%time\n",
    "\n",
    "import matplotlib.pyplot as plt\n",
    "from matplotlib.pyplot import figure\n",
    "\n",
    "figure( figsize=(8, 8))\n",
    "plt.imshow(np.squeeze(std_proj), cmap='gray')\n"
   ]
  },
  {
   "cell_type": "markdown",
   "metadata": {},
   "source": [
    "# Cut data in time dimension"
   ]
  },
  {
   "cell_type": "code",
   "execution_count": 32,
   "metadata": {},
   "outputs": [
    {
     "data": {
      "text/plain": [
       "numpy.ndarray"
      ]
     },
     "metadata": {},
     "output_type": "display_data"
    },
    {
     "data": {
      "text/plain": [
       "dtype('uint16')"
      ]
     },
     "metadata": {},
     "output_type": "display_data"
    },
    {
     "data": {
      "text/plain": [
       "(500L, 512L, 512L)"
      ]
     },
     "execution_count": 32,
     "metadata": {},
     "output_type": "execute_result"
    }
   ],
   "source": [
    "# truncate the data and save\n",
    "\n",
    "cut_im = np.squeeze(imarray[:,:500,:,:,:,:])\n",
    "display(type(cut_im))\n",
    "display(cut_im.dtype)\n",
    "cut_im.shape"
   ]
  },
  {
   "cell_type": "code",
   "execution_count": 33,
   "metadata": {},
   "outputs": [],
   "source": [
    "import tifffile as tiff\n",
    "tiff.imwrite(root_session_folder + 'cutTiff/temp_suite2p_mc.tif', cut_im)"
   ]
  },
  {
   "cell_type": "code",
   "execution_count": 11,
   "metadata": {},
   "outputs": [],
   "source": []
  },
  {
   "cell_type": "code",
   "execution_count": 9,
   "metadata": {},
   "outputs": [
    {
     "data": {
      "text/plain": [
       "<HDF5 dataset \"imaging\": shape (500, 512, 512), type \"<u2\">"
      ]
     },
     "execution_count": 9,
     "metadata": {},
     "output_type": "execute_result"
    }
   ],
   "source": [
    "# save cut data as h5\n",
    "hf = h5py.File(folder + 'cutTiff/cutH5.h5', 'w')\n",
    "hf.create_dataset('imaging', data=cut_im)\n",
    "hf.close()"
   ]
  }
 ],
 "metadata": {
  "kernelspec": {
   "display_name": "Python 2",
   "language": "python",
   "name": "python2"
  },
  "language_info": {
   "codemirror_mode": {
    "name": "ipython",
    "version": 2
   },
   "file_extension": ".py",
   "mimetype": "text/x-python",
   "name": "python",
   "nbconvert_exporter": "python",
   "pygments_lexer": "ipython2",
   "version": "2.7.16"
  }
 },
 "nbformat": 4,
 "nbformat_minor": 2
}
