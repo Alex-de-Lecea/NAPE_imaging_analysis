{
 "cells": [
  {
   "cell_type": "code",
   "execution_count": 1,
   "metadata": {},
   "outputs": [],
   "source": [
    "#import sima and other dependents\n",
    "\n",
    "import sima\n",
    "import sima.motion\n",
    "from sima.motion import HiddenMarkov2D\n",
    "import numpy as np\n",
    "import os"
   ]
  },
  {
   "cell_type": "code",
   "execution_count": 2,
   "metadata": {},
   "outputs": [],
   "source": [
    "filename = 'VJ_OFC_mThalaxons_06_310_Poisson12s'\n",
    "filename = 'itp_lhganiii_bl3_935_0001'\n",
    "\n",
    "folder = '/media/stuberlab/Vijay5/2p data/VJ_OFC_mThalaxons_06/D1'\n",
    "folder = 'C:/2pData/Ivan/itp_lhganiii_bl3_678/'"
   ]
  },
  {
   "cell_type": "code",
   "execution_count": 3,
   "metadata": {},
   "outputs": [
    {
     "data": {
      "text/plain": [
       "'C:/2pData/Ivan/itp_lhganiii_bl3_678/itp_lhganiii_bl3_935_0001.tif'"
      ]
     },
     "metadata": {},
     "output_type": "display_data"
    }
   ],
   "source": [
    "# splices file and file directory into a single path for loading\n",
    "\n",
    "datafile = os.path.join(folder, '%s.tif'%filename)\n",
    "display(datafile)"
   ]
  },
  {
   "cell_type": "code",
   "execution_count": 4,
   "metadata": {},
   "outputs": [],
   "source": [
    "# object that contains record of whole dataset; data not stored into memory all at once\n",
    "\n",
    "#sequences = [sima.Sequence.create('HDF5', datafile, 'tyx')]\n",
    "# datafile = os.path.join(folder, '%s.tif'%filename)\n",
    "sequences = [sima.Sequence.create('TIFF', datafile)]\n"
   ]
  },
  {
   "cell_type": "code",
   "execution_count": 5,
   "metadata": {},
   "outputs": [],
   "source": [
    "# define motion correction method\n",
    "mc_approach = sima.motion.HiddenMarkov2D(granularity='row', max_displacement=[30, 50], verbose=True)"
   ]
  },
  {
   "cell_type": "code",
   "execution_count": 9,
   "metadata": {},
   "outputs": [
    {
     "name": "stdout",
     "output_type": "stream",
     "text": [
      "Estimating model parameters.\n",
      "Estimating displacements for cycle  0\n",
      "Wall time: 42min 24s\n"
     ]
    }
   ],
   "source": [
    "%%time\n",
    "# apply motion correction to data\n",
    "dataset = mc_approach.correct(sequences, os.path.join(folder, filename + '_mc.sima'))"
   ]
  },
  {
   "cell_type": "code",
   "execution_count": 16,
   "metadata": {},
   "outputs": [
    {
     "data": {
      "text/plain": [
       "sima.imaging.ImagingDataset"
      ]
     },
     "execution_count": 16,
     "metadata": {},
     "output_type": "execute_result"
    }
   ],
   "source": [
    "type(dataset)"
   ]
  },
  {
   "cell_type": "code",
   "execution_count": 15,
   "metadata": {},
   "outputs": [],
   "source": [
    "# Save TIFF files with the time average/projection of each channel\n",
    "\n",
    "# dataset.export_frames([[[os.path.join(folder, filename + '_mc.tif')]]], fmt='TIFF16')\n",
    "dataset.export_averages([os.path.join(folder, filename + '_mc_std.tif')], projection_type='std')"
   ]
  },
  {
   "cell_type": "code",
   "execution_count": null,
   "metadata": {},
   "outputs": [],
   "source": [
    "# \n",
    "\n",
    "import sima\n",
    "import numpy as np\n",
    "from sima.ROI import ROIList\n",
    "import os\n",
    "import pickle\n",
    "\n",
    "indir = '/media/stuberlab/Vijay5/2p data/VJ_OFC_mThalaxons_06/D1'\n",
    "tempfiles = os.walk(indir).next()[2]\n",
    "h5files = [f for f in tempfiles if os.path.splitext(f)[1]=='.h5' and 'spatialweights' not in f]\n",
    "if len(h5files) > 1:\n",
    "    raise Exception('Too many .h5 files found. Only keep the data file for this session')\n",
    "filename = h5files[0]\n",
    "filename = os.path.splitext(filename)[0]\n",
    "\n",
    "rois = ROIList.load(os.path.join(indir, filename + '_mc_RoiSet.zip'), fmt='ImageJ')\n",
    "dataset = sima.ImagingDataset.load(os.path.join(indir, filename+'_mc.sima'))\n",
    "dataset.add_ROIs(rois, 'from_ImageJ')\n",
    "signals = dataset.extract(rois)\n",
    "extracted_signals = np.asarray(signals['raw'])\n",
    "np.save(os.path.join(indir, filename + '_extractedsignals.npy'), extracted_signals)"
   ]
  }
 ],
 "metadata": {
  "kernelspec": {
   "display_name": "Python 2",
   "language": "python",
   "name": "python2"
  },
  "language_info": {
   "codemirror_mode": {
    "name": "ipython",
    "version": 2
   },
   "file_extension": ".py",
   "mimetype": "text/x-python",
   "name": "python",
   "nbconvert_exporter": "python",
   "pygments_lexer": "ipython2",
   "version": "2.7.16"
  }
 },
 "nbformat": 4,
 "nbformat_minor": 2
}
