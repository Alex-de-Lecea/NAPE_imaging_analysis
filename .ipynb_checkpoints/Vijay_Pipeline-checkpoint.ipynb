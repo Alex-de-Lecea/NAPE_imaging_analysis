{
 "cells": [
  {
   "cell_type": "code",
   "execution_count": 1,
   "metadata": {},
   "outputs": [],
   "source": [
    "#import sima and other dependents\n",
    "\n",
    "import sima\n",
    "import sima.motion\n",
    "from sima.motion import HiddenMarkov2D\n",
    "import numpy as np\n",
    "import os\n",
    "import pickle"
   ]
  },
  {
   "cell_type": "code",
   "execution_count": 2,
   "metadata": {},
   "outputs": [],
   "source": [
    "#filename = 'VJ_OFC_6_D6'\n",
    "filename = '190924vgampmpoam1_630p6'\n",
    "\n",
    "#folder = 'C:/2pData/Vijay data/VJ_OFC_6_D9_trained/'\n",
    "folder = 'C:\\\\2pData\\\\Koichi\\\\'"
   ]
  },
  {
   "cell_type": "code",
   "execution_count": 3,
   "metadata": {},
   "outputs": [
    {
     "data": {
      "text/plain": [
       "'C:\\\\2pData\\\\Koichi\\\\190924vgampmpoam1_630p6.tif'"
      ]
     },
     "metadata": {},
     "output_type": "display_data"
    }
   ],
   "source": [
    "# splices file and file directory into a single path for loading\n",
    "\n",
    "datafile = os.path.join(folder, '%s.tif'%filename)\n",
    "#datafile = os.path.join(folder, '%s.h5'%filename)\n",
    "\n",
    "display(datafile)"
   ]
  },
  {
   "cell_type": "code",
   "execution_count": 4,
   "metadata": {},
   "outputs": [
    {
     "name": "stdout",
     "output_type": "stream",
     "text": [
      "1\n"
     ]
    },
    {
     "data": {
      "text/plain": [
       "(800, 1L, 512L, 512L, 1L)"
      ]
     },
     "execution_count": 4,
     "metadata": {},
     "output_type": "execute_result"
    }
   ],
   "source": [
    "# object that contains record of whole dataset; data not stored into memory all at once\n",
    "\n",
    "sequences = [sima.Sequence.create('TIFF', datafile)]\n",
    "\n",
    "#sequences = [sima.Sequence.create('HDF5', datafile, 'tyx')]\n",
    "print(len(sequences))\n",
    "sequences[0].shape"
   ]
  },
  {
   "cell_type": "code",
   "execution_count": 5,
   "metadata": {},
   "outputs": [],
   "source": [
    "# define motion correction method\n",
    "# n_processes can only handle =1! Bug in their code where >1 runs into an error\n",
    "# max displacement in [y,x]\n",
    "mc_approach = sima.motion.HiddenMarkov2D(granularity='row', max_displacement=[30, 50], n_processes = 1, verbose=True)"
   ]
  },
  {
   "cell_type": "markdown",
   "metadata": {},
   "source": [
    "## Apply motion correction"
   ]
  },
  {
   "cell_type": "code",
   "execution_count": 6,
   "metadata": {
    "scrolled": true
   },
   "outputs": [
    {
     "name": "stdout",
     "output_type": "stream",
     "text": [
      "Estimating model parameters.\n",
      "<type 'itertools.imap'>\n",
      "['__class__', '__delattr__', '__format__', '__getattribute__', '__hash__', '__init__', '__iter__', '__new__', '__reduce__', '__reduce_ex__', '__repr__', '__setattr__', '__sizeof__', '__str__', '__subclasshook__', 'next']\n",
      "Estimating displacements for cycle  0\n",
      "Wall time: 5min 57s\n"
     ]
    }
   ],
   "source": [
    "%%time\n",
    "# apply motion correction to data\n",
    "dataset = mc_approach.correct(sequences, os.path.join(folder, filename + '_mc.sima'), channel_names=['GCaMP'])\n",
    "# dataset dimensions are frame, plane, row(y), column (x)"
   ]
  },
  {
   "cell_type": "code",
   "execution_count": null,
   "metadata": {},
   "outputs": [],
   "source": [
    "dataset"
   ]
  },
  {
   "cell_type": "code",
   "execution_count": 7,
   "metadata": {},
   "outputs": [],
   "source": [
    "# Save TIFF files with the time average/projection of each channel\n",
    "\n",
    "dataset.export_frames([[[os.path.join(folder, filename + '_mc.tif')]]], fmt='TIFF16')\n",
    "#dataset.export_averages([os.path.join(folder, filename + '_mc_std.tif')], projection_type='std')"
   ]
  },
  {
   "cell_type": "markdown",
   "metadata": {},
   "source": [
    "## Run cell below if motion correction already applied and saved\n",
    "\n",
    "### Below that, calculate motion displacement"
   ]
  },
  {
   "cell_type": "code",
   "execution_count": null,
   "metadata": {},
   "outputs": [],
   "source": [
    "# load pickled/saved motion-corrected data\n",
    "\n",
    "file = open( os.path.join(folder, filename + '_mc.sima/sequences.pkl') , 'rb')\n",
    "sequences = pickle.load(file)\n",
    "file.close()\n",
    "\n",
    "dataset = sima.ImagingDataset.load( os.path.join(folder, filename + '_mc.sima') )\n"
   ]
  },
  {
   "cell_type": "code",
   "execution_count": null,
   "metadata": {},
   "outputs": [],
   "source": [
    "%%time\n",
    "# show motion displacements after motion correction\n",
    "mcDisp_approach = sima.motion.HiddenMarkov2D(granularity='row', max_displacement=[30, 50], n_processes = 1, verbose=True)\n",
    "\n",
    "displacements = mcDisp_approach.estimate(dataset)"
   ]
  },
  {
   "cell_type": "code",
   "execution_count": null,
   "metadata": {},
   "outputs": [],
   "source": [
    "# save the resulting displacement file\n",
    "displacement_file = open( os.path.join(folder, filename + '_mc.sima/displacement.pkl'), \"wb\" )\n",
    "pickle.dump( displacements, displacement_file )\n",
    "displacement_file.close()"
   ]
  },
  {
   "cell_type": "markdown",
   "metadata": {},
   "source": [
    "# SIMA Auto Segment"
   ]
  },
  {
   "cell_type": "code",
   "execution_count": null,
   "metadata": {},
   "outputs": [],
   "source": [
    "import sima.segment\n",
    "stica_approach = sima.segment.STICA(components=5)\n",
    "stica_approach.append(sima.segment.SparseROIsFromMasks())\n",
    "stica_approach.append(sima.segment.SmoothROIBoundaries())\n",
    "stica_approach.append(sima.segment.MergeOverlapping(threshold=0.5))"
   ]
  },
  {
   "cell_type": "code",
   "execution_count": null,
   "metadata": {},
   "outputs": [],
   "source": [
    "segment_file = 'VJ_OFC_6_D6.sima'\n",
    "segment_dir = 'C:\\\\2pData\\\\Vijay data\\\\VJ_OFC_6_D9_trained\\\\'\n",
    "segment_path = os.path.join(segment_dir, segment_file)\n",
    "segment_path"
   ]
  },
  {
   "cell_type": "code",
   "execution_count": null,
   "metadata": {},
   "outputs": [],
   "source": [
    "dataset = sima.ImagingDataset.load(segment_path)"
   ]
  },
  {
   "cell_type": "code",
   "execution_count": null,
   "metadata": {},
   "outputs": [],
   "source": [
    "%%time\n",
    "\n",
    "rois = dataset.segment(stica_approach, 'auto_ROIs')"
   ]
  },
  {
   "cell_type": "markdown",
   "metadata": {},
   "source": [
    "## Start below if ROIs segmented"
   ]
  },
  {
   "cell_type": "code",
   "execution_count": null,
   "metadata": {},
   "outputs": [],
   "source": []
  },
  {
   "cell_type": "code",
   "execution_count": null,
   "metadata": {},
   "outputs": [],
   "source": [
    "import matplotlib.pyplot as plt\n",
    "\n",
    "np.array( rois[0].mask[0][0] )\n",
    "\n",
    "#plt.imshow(rois[0].mask)"
   ]
  },
  {
   "cell_type": "code",
   "execution_count": null,
   "metadata": {},
   "outputs": [],
   "source": [
    "%%time\n",
    "print(\"Extracting signals.\")\n",
    "dataset.extract(signal_channel='GCaMP', label='GCaMP_signals', n_processes=16) # 16 processes: 5 min 19 s"
   ]
  },
  {
   "cell_type": "code",
   "execution_count": null,
   "metadata": {},
   "outputs": [],
   "source": [
    "print(\"Exporting GCaMP time series.\")\n",
    "dataset.export_signals(segment_path + 'example_signals.csv')"
   ]
  },
  {
   "cell_type": "code",
   "execution_count": null,
   "metadata": {},
   "outputs": [],
   "source": [
    "dataset.signals"
   ]
  },
  {
   "cell_type": "code",
   "execution_count": null,
   "metadata": {},
   "outputs": [],
   "source": [
    "# import necessary functions from matplotlib\n",
    "from matplotlib.pyplot import plot, show\n",
    "\n",
    "# plot the signal from an ROI object, with a different color for each cycle\n",
    "print(\"Displaying example calcium trace.\")\n",
    "raw_signals = dataset.signals('GCaMP')['GCaMP_signals']['raw']\n",
    "for sequence in range(3):  # plot data from the first 3 cycles\n",
    "    plot(raw_signals[sequence][3])  # plot the data from ROI #3\n",
    "show(block=True)"
   ]
  },
  {
   "cell_type": "markdown",
   "metadata": {},
   "source": [
    "# Vijay Manual ROI Extraction"
   ]
  },
  {
   "cell_type": "code",
   "execution_count": null,
   "metadata": {},
   "outputs": [],
   "source": [
    "import sima\n",
    "import numpy as np\n",
    "from sima.ROI import ROIList\n",
    "import os\n",
    "import pickle"
   ]
  },
  {
   "cell_type": "code",
   "execution_count": null,
   "metadata": {},
   "outputs": [],
   "source": [
    "indir = 'C:2pData/Vijay data/VJ_OFCVTA_7_D8_trained/'\n",
    "tempfiles = os.walk(indir).next()[2]"
   ]
  },
  {
   "cell_type": "code",
   "execution_count": null,
   "metadata": {},
   "outputs": [],
   "source": [
    "\n",
    "h5files = [f for f in tempfiles if os.path.splitext(f)[1]=='.h5' and 'spatialweights' not in f]\n",
    "if len(h5files) > 1:\n",
    "    raise Exception('Too many .h5 files found. Only keep the data file for this session')\n",
    "filename = h5files[0]\n",
    "filename = os.path.splitext(filename)[0]\n"
   ]
  },
  {
   "cell_type": "code",
   "execution_count": null,
   "metadata": {},
   "outputs": [],
   "source": [
    "rois = ROIList.load(os.path.join(indir, filename + '_mc_RoiSet.zip'), fmt='ImageJ')\n",
    "dataset = sima.ImagingDataset.load(os.path.join(indir, filename+'_mc.sima'))\n",
    "dataset.add_ROIs(rois, 'from_ImageJ')\n",
    "signals = dataset.extract(rois)\n",
    "extracted_signals = np.asarray(signals['raw'])\n",
    "np.save(os.path.join(indir, filename + '_extractedsignals.npy'), extracted_signals)"
   ]
  }
 ],
 "metadata": {
  "kernelspec": {
   "display_name": "Python 2",
   "language": "python",
   "name": "python2"
  },
  "language_info": {
   "codemirror_mode": {
    "name": "ipython",
    "version": 2
   },
   "file_extension": ".py",
   "mimetype": "text/x-python",
   "name": "python",
   "nbconvert_exporter": "python",
   "pygments_lexer": "ipython2",
   "version": "2.7.16"
  }
 },
 "nbformat": 4,
 "nbformat_minor": 2
}
