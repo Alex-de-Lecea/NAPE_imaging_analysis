{
 "cells": [
  {
   "cell_type": "markdown",
   "metadata": {},
   "source": [
    "Note that apparently taking chunked avg does not result in exact same values as taking avg without chunking"
   ]
  },
  {
   "cell_type": "code",
   "execution_count": null,
   "metadata": {},
   "outputs": [],
   "source": [
    "import os\n",
    "import h5py\n",
    "import sima\n",
    "import numpy as np\n",
    "import matplotlib.pyplot as plt\n",
    "import tifffile as tiff\n",
    "\n",
    "fdir = r'D:\\bruker_data\\test_small_session\\vj_ofc_imageactivate_001_2020903-001_small'\n",
    "fname = 'vj_ofc_imageactivate_001_2020903-001_small'\n",
    "chunk_size = 2000.0\n",
    "analyze_mc = True\n",
    "\n",
    "# define file paths\n",
    "raw_fpath = os.path.join(fdir, fname + '.h5')\n",
    "sima_mc_fpath = os.path.join(fdir, fname)+ '_sima_mc.h5'\n",
    "\n",
    "if analyze_mc:\n",
    "    data_analyze_fpath = sima_mc_fpath\n",
    "else:\n",
    "    data_analyze_fpath = raw_fpath\n"
   ]
  },
  {
   "cell_type": "code",
   "execution_count": null,
   "metadata": {},
   "outputs": [],
   "source": [
    "\"\"\" \n",
    "generate sima_mc.h5 from .sima folder\n",
    "\n",
    "note: main_process code applies bidi offset correction to sequences file in .sima folder\n",
    "\n",
    "\"\"\"\n",
    "if analyze_mc:\n",
    "    if os.path.exists(os.path.join(fdir, fname+'_mc.sima')) and not os.path.exists(sima_mc_fpath):\n",
    "        dataset = sima.ImagingDataset.load(os.path.join(fdir, fname+'_mc.sima'))\n",
    "        dataset.sequences[0].export(sima_mc_fpath, fmt='HDF5', fill_gaps=True, channel_names=None)"
   ]
  },
  {
   "cell_type": "code",
   "execution_count": null,
   "metadata": {},
   "outputs": [],
   "source": [
    "# define h5 obj and figure out frame indices for each chunk\n",
    "\n",
    "h5 = h5py.File(data_analyze_fpath,'r')\n",
    "h5_obj = h5[list(h5.keys())[0]]\n",
    "num_frames = h5_obj.shape[0]\n",
    "if len(h5_obj.shape)==5: # for h5's that have not been squeezed coming out of sima analysis\n",
    "    y_dim = h5_obj.shape[2]; x_dim = h5_obj.shape[3]\n",
    "else:\n",
    "    y_dim = h5_obj.shape[-2]; x_dim = h5_obj.shape[-1]\n",
    "\n",
    "n_chunks = int(np.ceil(num_frames/chunk_size))\n",
    "chunked_frame_idx = np.array_split(np.arange(num_frames), n_chunks) # split frame indices into chunks"
   ]
  },
  {
   "cell_type": "code",
   "execution_count": null,
   "metadata": {},
   "outputs": [],
   "source": [
    "proj_names = ['mean', 'std', 'max']\n",
    "dict_projections = {}\n",
    "for proj_name in proj_names:\n",
    "    dict_projections[proj_name] = np.empty([n_chunks, y_dim, x_dim])"
   ]
  },
  {
   "cell_type": "code",
   "execution_count": null,
   "metadata": {},
   "outputs": [],
   "source": [
    "for chunk_idx, frame_idx in enumerate(chunked_frame_idx):\n",
    "    print('projecting from frame {} to {}'.format(frame_idx[0],frame_idx[-1]))\n",
    "    chunk_data = np.array(np.squeeze( h5_obj[frame_idx,...] )).astype('uint16') # np.array loads all data into memory\n",
    "\n",
    "    dict_projections['mean'][chunk_idx,...] = np.mean(chunk_data, axis=0)\n",
    "    dict_projections['std'][chunk_idx,...] = np.std(chunk_data, axis=0)\n",
    "    dict_projections['max'][chunk_idx,...] = np.max(chunk_data, axis=0)\n",
    "h5.close()"
   ]
  },
  {
   "cell_type": "code",
   "execution_count": null,
   "metadata": {},
   "outputs": [],
   "source": [
    "fig, axs = plt.subplots(1,3,figsize=(10,5))\n",
    "\n",
    "for idx, proj_name in enumerate(proj_names):\n",
    "    \n",
    "    # take mean across chunked avges\n",
    "    dict_projections['all_frame_'+proj_name] = np.squeeze(np.mean(dict_projections[proj_name], axis=0))\n",
    "    \n",
    "    axs[idx].imshow(dict_projections['all_frame_'+proj_name])\n",
    "    axs[idx].set_title(proj_name)\n",
    "    tiff.imwrite(os.path.join(fdir, '{}_img.tif'.format(proj_name)), dict_projections['all_frame_'+proj_name])"
   ]
  },
  {
   "cell_type": "code",
   "execution_count": null,
   "metadata": {},
   "outputs": [],
   "source": []
  }
 ],
 "metadata": {
  "kernelspec": {
   "display_name": "Python 2",
   "language": "python",
   "name": "python2"
  },
  "language_info": {
   "codemirror_mode": {
    "name": "ipython",
    "version": 2
   },
   "file_extension": ".py",
   "mimetype": "text/x-python",
   "name": "python",
   "nbconvert_exporter": "python",
   "pygments_lexer": "ipython2",
   "version": "2.7.16"
  }
 },
 "nbformat": 4,
 "nbformat_minor": 1
}
